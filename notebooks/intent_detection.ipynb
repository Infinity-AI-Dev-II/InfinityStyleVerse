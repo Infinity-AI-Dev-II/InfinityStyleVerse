{
 "cells": [
  {
   "cell_type": "code",
   "execution_count": 39,
   "id": "ef0015c5",
   "metadata": {},
   "outputs": [],
   "source": [
    "# 1. Setup and Data Loading"
   ]
  },
  {
   "cell_type": "code",
   "execution_count": 40,
   "id": "97b8a99e",
   "metadata": {},
   "outputs": [
    {
     "name": "stdout",
     "output_type": "stream",
     "text": [
      "Data loaded successfully: 500 rows.\n"
     ]
    }
   ],
   "source": [
    "import pandas as pd\n",
    "import numpy as np\n",
    "import time\n",
    "import pickle\n",
    "import random\n",
    "from sklearn.pipeline import Pipeline\n",
    "\n",
    "\n",
    "from sklearn.model_selection import train_test_split\n",
    "from sklearn.feature_extraction.text import TfidfVectorizer\n",
    "from sklearn.preprocessing import LabelEncoder\n",
    "\n",
    "\n",
    "from sklearn.linear_model import LogisticRegression\n",
    "from xgboost import XGBClassifier\n",
    "from sklearn.svm import SVC\n",
    "\n",
    "\n",
    "from sklearn.metrics import classification_report, confusion_matrix, f1_score\n",
    "\n",
    "\n",
    "import matplotlib.pyplot as plt\n",
    "import seaborn as sns\n",
    "\n",
    "# Configuration\n",
    "DATA_PATH = \"C:/Users/USER/OneDrive/Desktop/Infinity AI/ApparelWeb/InfinityStyleVerse/backend/app/Neurocoreos/intent_data.csv\"\n",
    "MODEL_OUTPUT_PATH = 'C:/Users/USER/OneDrive/Desktop/Infinity AI/ApparelWeb/InfinityStyleVerse/models/intent_classifier_mvp.pkl'\n",
    "TEST_SIZE = 0.2\n",
    "RANDOM_STATE = 42\n",
    "LATENCY_SAMPLES = 1000 \n",
    "P95_LATENCY_TARGET_MS = 20\n",
    "\n",
    "# Load the dataset\n",
    "\n",
    "df = pd.read_csv(DATA_PATH)\n",
    "print(f\"Data loaded successfully: {len(df)} rows.\")\n"
   ]
  },
  {
   "cell_type": "code",
   "execution_count": 41,
   "id": "985f988b",
   "metadata": {},
   "outputs": [],
   "source": [
    "# Basic exploration"
   ]
  },
  {
   "cell_type": "code",
   "execution_count": 42,
   "id": "f9a246ab",
   "metadata": {},
   "outputs": [
    {
     "name": "stdout",
     "output_type": "stream",
     "text": [
      "Dataset Overview \n",
      "Total samples: 500\n",
      "Columns: ['text_input', 'intent']\n",
      "\n",
      "First 5 rows:\n",
      "                                          text_input                 intent\n",
      "0       Please generate tell me a joke about python.           unclassified\n",
      "1     What does an asymmetrical satin gown look like  design_recommendation\n",
      "2  What is the optimal price for the new denim ja...   pricing_optimization\n",
      "3  Hi, show me a design sketch for a new t-shirt ...  design_recommendation\n",
      "4  Please generate i need a mix and match for my ...  outfit_recommendation\n",
      "\n",
      "Intent Class Distribution:\n",
      "intent\n",
      "unclassified             100\n",
      "design_recommendation    100\n",
      "pricing_optimization     100\n",
      "outfit_recommendation    100\n",
      "fabric_selection         100\n",
      "Name: count, dtype: int64\n"
     ]
    }
   ],
   "source": [
    "print(\"Dataset Overview \")\n",
    "print(f\"Total samples: {len(df)}\")\n",
    "print(f\"Columns: {df.columns.tolist()}\")\n",
    "print(\"\\nFirst 5 rows:\")\n",
    "print(df.head())\n",
    "\n",
    "print(\"\\nIntent Class Distribution:\")\n",
    "print(df['intent'].value_counts())"
   ]
  },
  {
   "cell_type": "code",
   "execution_count": 43,
   "id": "9c861c4d",
   "metadata": {},
   "outputs": [],
   "source": [
    "#Preprocessing: TF-IDF Vectorization and Split"
   ]
  },
  {
   "cell_type": "code",
   "execution_count": 44,
   "id": "15716d32",
   "metadata": {},
   "outputs": [
    {
     "name": "stdout",
     "output_type": "stream",
     "text": [
      "--- Intent Label Encoding Map ---\n",
      "Intent: design_recommendation -> Encoded: 0\n",
      "Intent: fabric_selection -> Encoded: 1\n",
      "Intent: outfit_recommendation -> Encoded: 2\n",
      "Intent: pricing_optimization -> Encoded: 3\n",
      "Intent: unclassified -> Encoded: 4\n",
      "\n",
      "Converting text to numerical features using TF-IDF\n",
      "Feature matrix shape: (500, 428)\n",
      "\n",
      "Training set features shape: (400, 428)\n",
      "Test set features shape: (100, 428)\n"
     ]
    }
   ],
   "source": [
    "X_raw = df['text_input'] \n",
    "y = df['intent']\n",
    "\n",
    "label_encoder = LabelEncoder()\n",
    "y_encoded = label_encoder.fit_transform(y)\n",
    "\n",
    "print(\"--- Intent Label Encoding Map ---\")\n",
    "for i, label in enumerate(label_encoder.classes_):\n",
    "    print(f\"Intent: {label} -> Encoded: {i}\")\n",
    "\n",
    "indices = np.arange(len(X_raw))\n",
    "X_train_indices, X_test_indices, y_train_encoded, y_test_encoded = train_test_split(\n",
    "    indices, y_encoded, \n",
    "    test_size=TEST_SIZE, \n",
    "    random_state=RANDOM_STATE, \n",
    "    stratify=y_encoded\n",
    ")\n",
    "\n",
    "\n",
    "y_test = label_encoder.inverse_transform(y_test_encoded) \n",
    "\n",
    "\n",
    "print(\"\\nConverting text to numerical features using TF-IDF\")\n",
    "vectorizer = TfidfVectorizer(max_features=1000, ngram_range=(1, 2))\n",
    "X_features = vectorizer.fit_transform(X_raw)\n",
    "\n",
    "print(f\"Feature matrix shape: {X_features.shape}\")\n",
    "\n",
    "X_train = X_features[X_train_indices]\n",
    "X_test = X_features[X_test_indices]\n",
    "X_raw_test = X_raw.iloc[X_test_indices].tolist() \n",
    "\n",
    "print(f\"\\nTraining set features shape: {X_train.shape}\")\n",
    "print(f\"Test set features shape: {X_test.shape}\")"
   ]
  },
  {
   "cell_type": "code",
   "execution_count": 45,
   "id": "4e5d8667",
   "metadata": {},
   "outputs": [],
   "source": [
    "#Model Training and Selection"
   ]
  },
  {
   "cell_type": "code",
   "execution_count": 46,
   "id": "5d273245",
   "metadata": {},
   "outputs": [
    {
     "name": "stdout",
     "output_type": "stream",
     "text": [
      "  F1 Score (Macro Avg): 1.0000\n",
      "  F1 Score (Macro Avg): 0.9800"
     ]
    },
    {
     "name": "stderr",
     "output_type": "stream",
     "text": [
      "C:\\Users\\USER\\AppData\\Roaming\\Python\\Python39\\site-packages\\xgboost\\core.py:158: UserWarning: [13:54:10] WARNING: C:\\buildkite-agent\\builds\\buildkite-windows-cpu-autoscaling-group-i-08cbc0333d8d4aae1-1\\xgboost\\xgboost-ci-windows\\src\\learner.cc:740: \n",
      "Parameters: { \"use_label_encoder\" } are not used.\n",
      "\n",
      "  warnings.warn(smsg, UserWarning)\n"
     ]
    },
    {
     "name": "stdout",
     "output_type": "stream",
     "text": [
      "\n",
      "  F1 Score (Macro Avg): 1.0000\n",
      "Best Model Selected: Logistic Regression (F1: 1.0000)\n"
     ]
    }
   ],
   "source": [
    "models = {\n",
    "    \"Logistic Regression\": LogisticRegression(solver='liblinear', random_state=RANDOM_STATE, C=1.0),\n",
    "    \"XGBoost Classifier\": XGBClassifier(use_label_encoder=False, eval_metric='mlogloss', random_state=RANDOM_STATE, n_estimators=100, learning_rate=0.1),\n",
    "    \"Support Vector Classifier\": SVC(kernel='linear', C=1.0, random_state=RANDOM_STATE, probability=True)\n",
    "}\n",
    "\n",
    "results = {}\n",
    "best_f1 = 0\n",
    "best_model_name = None\n",
    "best_model = None\n",
    "\n",
    "\n",
    "for name, model in models.items():\n",
    "    \n",
    "    model.fit(X_train, y_train_encoded) \n",
    "    y_pred_encoded = model.predict(X_test)\n",
    "    y_pred = label_encoder.inverse_transform(y_pred_encoded) \n",
    "\n",
    "    f1_macro = f1_score(y_test, y_pred, average='macro')\n",
    "    \n",
    "    results[name] = {\n",
    "        'f1_macro': f1_macro,\n",
    "        'model': model\n",
    "    }\n",
    "    \n",
    "    print(f\"  F1 Score (Macro Avg): {f1_macro:.4f}\")\n",
    "    \n",
    "    if f1_macro > best_f1:\n",
    "        best_f1 = f1_macro\n",
    "        best_model_name = name\n",
    "        best_model = model\n",
    "\n",
    "print(f\"Best Model Selected: {best_model_name} (F1: {best_f1:.4f})\")"
   ]
  },
  {
   "cell_type": "code",
   "execution_count": 47,
   "id": "7f3b067d",
   "metadata": {},
   "outputs": [],
   "source": [
    "#Latency and Confusion Matrix"
   ]
  },
  {
   "cell_type": "code",
   "execution_count": 48,
   "id": "c69770fd",
   "metadata": {},
   "outputs": [
    {
     "name": "stdout",
     "output_type": "stream",
     "text": [
      "\n",
      " P95 Latency Check (Target: < 20 ms)\n",
      "Model: Logistic Regression\n",
      "Simulated Inference Latency P95: 0.890 ms\n",
      "Latency P95 < 20 ms Target Met: YES\n",
      "F1 >= 0.90 Target Met: YES\n"
     ]
    }
   ],
   "source": [
    "latencies = []\n",
    "\n",
    "print(f\"\\n P95 Latency Check (Target: < {P95_LATENCY_TARGET_MS} ms)\")\n",
    "\n",
    "# Use a random sample of the test set for the check\n",
    "num_latency_samples = min(LATENCY_SAMPLES, len(X_raw_test))\n",
    "latency_prompts = random.sample(X_raw_test, num_latency_samples) \n",
    "\n",
    "for prompt in latency_prompts:\n",
    "    start = time.perf_counter()\n",
    "    _ = final_pipeline.predict([prompt]) \n",
    "    end = time.perf_counter()\n",
    "    latencies.append((end - start) * 1000) \n",
    "\n",
    "p95_latency = pd.Series(latencies).quantile(0.95)\n",
    "latency_passed = p95_latency < P95_LATENCY_TARGET_MS\n",
    "\n",
    "print(f\"Model: {best_model_name}\")\n",
    "print(f\"Simulated Inference Latency P95: {p95_latency:.3f} ms\")\n",
    "print(f\"Latency P95 < {P95_LATENCY_TARGET_MS} ms Target Met: {'YES' if latency_passed else 'NO'}\")\n",
    "\n",
    "\n",
    "print(f\"F1 >= 0.90 Target Met: {'YES' if f1_passed else 'NO'}\")"
   ]
  },
  {
   "cell_type": "code",
   "execution_count": 49,
   "id": "45d37f1d",
   "metadata": {},
   "outputs": [],
   "source": [
    "#Confusion Matrix"
   ]
  },
  {
   "cell_type": "code",
   "execution_count": 50,
   "id": "1861a876",
   "metadata": {},
   "outputs": [
    {
     "name": "stdout",
     "output_type": "stream",
     "text": [
      "Defaulting to user installation because normal site-packages is not writeable\n",
      "Requirement already satisfied: tabulate in c:\\users\\user\\appdata\\roaming\\python\\python39\\site-packages (0.9.0)\n"
     ]
    },
    {
     "name": "stderr",
     "output_type": "stream",
     "text": [
      "WARNING: You are using pip version 21.2.4; however, version 25.2 is available.\n",
      "You should consider upgrading via the 'C:\\Program Files\\Python39\\python.exe -m pip install --upgrade pip' command.\n"
     ]
    }
   ],
   "source": [
    "!pip install tabulate"
   ]
  },
  {
   "cell_type": "code",
   "execution_count": 51,
   "id": "c7cf589e",
   "metadata": {},
   "outputs": [
    {
     "name": "stdout",
     "output_type": "stream",
     "text": [
      "\n",
      "CONFUSION MATRIX (Actual vs. Predicted Module Misroutes\n",
      "|                               |   Predicted: design_recommendation |   Predicted: fabric_selection |   Predicted: outfit_recommendation |   Predicted: pricing_optimization |   Predicted: unclassified |\n",
      "|:------------------------------|-----------------------------------:|------------------------------:|-----------------------------------:|----------------------------------:|--------------------------:|\n",
      "| Actual: design_recommendation |                                 20 |                             0 |                                  0 |                                 0 |                         0 |\n",
      "| Actual: fabric_selection      |                                  0 |                            20 |                                  0 |                                 0 |                         0 |\n",
      "| Actual: outfit_recommendation |                                  0 |                             0 |                                 20 |                                 0 |                         0 |\n",
      "| Actual: pricing_optimization  |                                  0 |                             0 |                                  0 |                                20 |                         0 |\n",
      "| Actual: unclassified          |                                  0 |                             0 |                                  0 |                                 0 |                        20 |\n"
     ]
    },
    {
     "data": {
      "image/png": "[encoded data removed]",
      "text/plain": [
       "<Figure size 1000x800 with 2 Axes>"
      ]
     },
     "metadata": {},
     "output_type": "display_data"
    },
    {
     "name": "stdout",
     "output_type": "stream",
     "text": [
      "\n",
      "THRESHOLD CALIBRATION ANALYSIS (Threshold >= 0.75)\n",
      "Accuracy for predictions above threshold: 0.1739\n",
      "Percentage of samples meeting threshold: 23.00%\n",
      "\n",
      "Operational Insight: Predictions below this threshold should trigger a safe fallback route to reduce misrouting.\n"
     ]
    }
   ],
   "source": [
    "y_pred_final_encoded = final_pipeline.predict(X_raw_test) \n",
    "\n",
    "\n",
    "y_pred_final_labels = label_encoder.inverse_transform(y_pred_final_encoded)\n",
    "\n",
    "print(\"\\nCONFUSION MATRIX (Actual vs. Predicted Module Misroutes\")\n",
    "cm = confusion_matrix(y_test, y_pred_final_labels, labels=label_encoder.classes_)\n",
    "cm_df = pd.DataFrame(cm, \n",
    "                     index=[f'Actual: {c}' for c in label_encoder.classes_], \n",
    "                     columns=[f'Predicted: {c}' for c in label_encoder.classes_])\n",
    "print(cm_df.to_markdown())\n",
    "\n",
    "# Plot the Confusion Matrix\n",
    "plt.figure(figsize=(10, 8))\n",
    "sns.heatmap(cm, annot=True, fmt='d', cmap='Blues', \n",
    "            xticklabels=label_encoder.classes_, yticklabels=label_encoder.classes_)\n",
    "plt.title(f'Intent Detector Confusion Matrix - {best_model_name}')\n",
    "plt.xlabel('Predicted Intent (Module)')\n",
    "plt.ylabel('Actual Intent (Module)')\n",
    "plt.show()\n",
    "\n",
    "THRESHOLD = 0.75 \n",
    "\n",
    "y_proba = final_pipeline.predict_proba(latency_prompts)\n",
    "max_confidence = np.max(y_proba, axis=1)\n",
    "\n",
    "\n",
    "y_pred_confidence_encoded = np.argmax(y_proba, axis=1) \n",
    "y_pred_confidence_labels = label_encoder.inverse_transform(y_pred_confidence_encoded)\n",
    "\n",
    "\n",
    "latency_indices_in_full_data = X_raw.index[X_raw.isin(latency_prompts)]\n",
    "\n",
    "\n",
    "true_labels_from_full_data = y.loc[latency_indices_in_full_data]\n",
    "\n",
    "\n",
    "test_indices_set = set(X_test_indices)\n",
    "y_test_confidence_labels = true_labels_from_full_data[true_labels_from_full_data.index.isin(test_indices_set)].values\n",
    "\n",
    "\n",
    "high_confidence_indices = (max_confidence >= THRESHOLD)\n",
    "\n",
    "print(f\"\\nTHRESHOLD CALIBRATION ANALYSIS (Threshold >= {THRESHOLD})\")\n",
    "\n",
    "if high_confidence_indices.sum() > 0:\n",
    "    accuracy_above_threshold = (y_pred_confidence_labels[high_confidence_indices] == y_test_confidence_labels[high_confidence_indices]).sum() / high_confidence_indices.sum()\n",
    "\n",
    "    print(f\"Accuracy for predictions above threshold: {accuracy_above_threshold:.4f}\")\n",
    "    print(f\"Percentage of samples meeting threshold: {(high_confidence_indices).sum() / len(latency_prompts):.2%}\")\n",
    "    print(\"\\nOperational Insight: Predictions below this threshold should trigger a safe fallback route to reduce misrouting.\")\n",
    "else:\n",
    "    print(\"All samples fell below the threshold, indicating the threshold might be too high or data is perfectly separated.\")\n"
   ]
  },
  {
   "cell_type": "code",
   "execution_count": 52,
   "id": "711a10d7",
   "metadata": {},
   "outputs": [],
   "source": [
    "#Saving the Model"
   ]
  },
  {
   "cell_type": "code",
   "execution_count": 53,
   "id": "84f9eb36",
   "metadata": {},
   "outputs": [
    {
     "name": "stdout",
     "output_type": "stream",
     "text": [
      "\n",
      " SUCCESS: Final artifact (Logistic Regression) saved as C:/Users/USER/OneDrive/Desktop/Infinity AI/ApparelWeb/InfinityStyleVerse/models/intent_classifier_mvp.pkl.\n"
     ]
    }
   ],
   "source": [
    "final_artifact = {\n",
    "    'pipeline': final_pipeline,\n",
    "    'label_encoder_classes': label_encoder.classes_\n",
    "    }\n",
    "with open(MODEL_OUTPUT_PATH, 'wb') as f:\n",
    "    pickle.dump(final_artifact, f)\n",
    "print(f\"\\n SUCCESS: Final artifact ({best_model_name}) saved as {MODEL_OUTPUT_PATH}.\")\n"
   ]
  }
 ],
 "metadata": {
  "kernelspec": {
   "display_name": "Python 3",
   "language": "python",
   "name": "python3"
  },
  "language_info": {
   "codemirror_mode": {
    "name": "ipython",
    "version": 3
   },
   "file_extension": ".py",
   "mimetype": "text/x-python",
   "name": "python",
   "nbconvert_exporter": "python",
   "pygments_lexer": "ipython3",
   "version": "3.9.10"
  }
 },
 "nbformat": 4,
 "nbformat_minor": 5
}
