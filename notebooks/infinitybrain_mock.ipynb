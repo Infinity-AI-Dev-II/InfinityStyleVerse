{
 "cells": [
  {
   "cell_type": "markdown",
   "id": "e426bad7",
   "metadata": {},
   "source": [
    "Day 1"
   ]
  },
  {
   "cell_type": "markdown",
   "id": "4d9c559a",
   "metadata": {},
   "source": [
    "Initial Setup"
   ]
  },
  {
   "cell_type": "code",
   "execution_count": 43,
   "id": "8628e6e2",
   "metadata": {},
   "outputs": [],
   "source": [
    "import numpy as np\n",
    "import pandas as pd\n",
    "import os"
   ]
  },
  {
   "cell_type": "code",
   "execution_count": 44,
   "id": "adc293e8",
   "metadata": {},
   "outputs": [
    {
     "name": "stdout",
     "output_type": "stream",
     "text": [
      "InfinityBrain mock setup complete\n"
     ]
    }
   ],
   "source": [
    "os.chdir(os.path.dirname(os.path.abspath(\"__file__\")))\n",
    "\n",
    "print(\"InfinityBrain mock setup complete\")"
   ]
  },
  {
   "cell_type": "markdown",
   "id": "cd992812",
   "metadata": {},
   "source": [
    "Dummy ML Model for VisionaryAI"
   ]
  },
  {
   "cell_type": "code",
   "execution_count": 45,
   "id": "6cda3cce",
   "metadata": {},
   "outputs": [],
   "source": [
    "def mock_visionaryai(image_input):\n",
    "    tags = [\"cotton\", \"blue\", \"casual\"]  # Example tags\n",
    "    score = np.random.uniform(0.7, 1.0)  # Random confidence between 0.7–1.0\n",
    "    return {\"tags\": tags, \"confidence_score\": score}"
   ]
  },
  {
   "cell_type": "code",
   "execution_count": 46,
   "id": "43aa6136",
   "metadata": {},
   "outputs": [
    {
     "name": "stdout",
     "output_type": "stream",
     "text": [
      "{'tags': ['cotton', 'blue', 'casual'], 'confidence_score': 0.9344979546974078}\n"
     ]
    }
   ],
   "source": [
    "result = mock_visionaryai(\"sample_image.jpg\")\n",
    "print(result)"
   ]
  },
  {
   "cell_type": "markdown",
   "id": "df518623",
   "metadata": {},
   "source": [
    "Dummy ML Model for Inference Logic"
   ]
  },
  {
   "cell_type": "code",
   "execution_count": 47,
   "id": "7c48722e",
   "metadata": {},
   "outputs": [],
   "source": [
    "# The below function will takes user_action as input and will look it up in a dictionary (\"intent_map\"). If a match is found, \n",
    "# it will return a dictionary with the predicted next intent (what the user will want to do next) and return a fixed confidence score 0.85 for now."
   ]
  },
  {
   "cell_type": "code",
   "execution_count": 48,
   "id": "8165a099",
   "metadata": {},
   "outputs": [],
   "source": [
    "# Dummy function for intent prediction\n",
    "def mock_intentlogic(user_action):\n",
    "    intent_map = {\"viewed_dress\": \"buy_shoes\", \"added_to_cart\": \"buy_accessory\"} \n",
    "    prediction = intent_map.get(user_action, \"explore_more\")\n",
    "    return {\"predicted_intent\": prediction, \"confidence\": 0.85}"
   ]
  },
  {
   "cell_type": "code",
   "execution_count": 49,
   "id": "8196a5c6",
   "metadata": {},
   "outputs": [
    {
     "name": "stdout",
     "output_type": "stream",
     "text": [
      "{'predicted_intent': 'buy_shoes', 'confidence': 0.85}\n"
     ]
    }
   ],
   "source": [
    "# Testing function\n",
    "intent_result = mock_intentlogic(\"viewed_dress\")\n",
    "print(intent_result)"
   ]
  },
  {
   "cell_type": "markdown",
   "id": "4ddfdca9",
   "metadata": {},
   "source": [
    "Day 2"
   ]
  },
  {
   "cell_type": "code",
   "execution_count": 50,
   "id": "e5e6a739",
   "metadata": {},
   "outputs": [],
   "source": [
    "import random\n",
    "\n",
    "def mock_infinitybrain_predict(prompt):    \n",
    "    trends = [\"High demand for blue dresses\", \"Rise in sustainable jackets\", \"Popular neon tops\"]\n",
    "    confidence = round(random.uniform(0.8, 0.95), 2)  # Random confidence between 0.8 and 0.95\n",
    "    return {\"trend_forecast\": random.choice(trends), \"confidence\": confidence}"
   ]
  },
  {
   "cell_type": "code",
   "execution_count": 51,
   "id": "367faa00",
   "metadata": {},
   "outputs": [
    {
     "name": "stdout",
     "output_type": "stream",
     "text": [
      "{'trend_forecast': 'High demand for blue dresses', 'confidence': 0.84}\n"
     ]
    }
   ],
   "source": [
    "test_prompt = \"Predict trend for summer\"\n",
    "predict_result = mock_infinitybrain_predict(test_prompt)\n",
    "print(predict_result)"
   ]
  },
  {
   "cell_type": "markdown",
   "id": "67ab732e",
   "metadata": {},
   "source": [
    "VisionaryAI & StyleSense Placeholder Endpoints"
   ]
  },
  {
   "cell_type": "code",
   "execution_count": 52,
   "id": "2e1e2b10",
   "metadata": {},
   "outputs": [
    {
     "name": "stdout",
     "output_type": "stream",
     "text": [
      "VisionaryAI Analysis: {'material': 'denim', 'color': 'blue', 'confidence': 0.85}\n"
     ]
    }
   ],
   "source": [
    "#Placeholder for VisionaryAI \n",
    "def mock_visionaryai_analyze(image_input):\n",
    "    materials = [\"cotton\", \"silk\", \"denim\"]\n",
    "    colors = [\"blue\", \"red\", \"black\"]\n",
    "    return {\n",
    "        \"material\": random.choice(materials),\n",
    "        \"color\": random.choice(colors),\n",
    "        \"confidence\": round(random.uniform(0.75, 0.95), 2)\n",
    "    }\n",
    "\n",
    "# Test\n",
    "visionary_result = mock_visionaryai_analyze(\"sample_image.jpg\")\n",
    "print(\"VisionaryAI Analysis:\", visionary_result)"
   ]
  },
  {
   "cell_type": "code",
   "execution_count": 53,
   "id": "ac4645a6",
   "metadata": {},
   "outputs": [
    {
     "name": "stdout",
     "output_type": "stream",
     "text": [
      "StyleSense Suggestion: {'suggestion': 'Try a leather jacket', 'confidence': 0.85}\n"
     ]
    }
   ],
   "source": [
    "#Placeholder for StyleSense\n",
    "def mock_stylesense_suggest(user_preferences):\n",
    "    suggestions = [\n",
    "        \"Pair with white sneakers\",\n",
    "        \"Try a leather jacket\",\n",
    "        \"Accessorize with a silver necklace\"\n",
    "    ]\n",
    "    return {\n",
    "        \"suggestion\": random.choice(suggestions),\n",
    "        \"confidence\": 0.85  # Fixed for simplicity\n",
    "    }\n",
    "\n",
    "# Test\n",
    "stylesense_result = mock_stylesense_suggest({\"preference\": \"casual\"})\n",
    "print(\"StyleSense Suggestion:\", stylesense_result)"
   ]
  },
  {
   "cell_type": "markdown",
   "id": "e1aa7f31",
   "metadata": {},
   "source": [
    "Day 3"
   ]
  },
  {
   "cell_type": "code",
   "execution_count": 54,
   "id": "7ef4ad1f",
   "metadata": {},
   "outputs": [],
   "source": [
    "# PersonaMesh \n",
    "# Setting up mock embeddings for test users"
   ]
  },
  {
   "cell_type": "code",
   "execution_count": 55,
   "id": "b7700cf3",
   "metadata": {},
   "outputs": [],
   "source": [
    "# Mock Embeddings:\n",
    "# Contains a dictionary with user_id as key and a list of 3 numbers (formal, color, style) as value.\n",
    "# Test Users: user1 (casual), user2 (trendy), user3 (neutral).\n",
    "# This is a placeholder for PersonaMesh to simulate user preferences."
   ]
  },
  {
   "cell_type": "code",
   "execution_count": 56,
   "id": "6f366ac7",
   "metadata": {},
   "outputs": [
    {
     "name": "stdout",
     "output_type": "stream",
     "text": [
      "Mock embeddings set up: {'user1': [0.1, 0.9, 0.3], 'user2': [0.8, 0.2, 0.7], 'user3': [0.5, 0.5, 0.5]}\n"
     ]
    }
   ],
   "source": [
    "mock_embeddings = {\n",
    "    \"user1\": [0.1, 0.9, 0.3],  # Casual shopper (low formal, high color, medium style)\n",
    "    \"user2\": [0.8, 0.2, 0.7],  # Trendy designer (high formal, low color, high style)\n",
    "    \"user3\": [0.5, 0.5, 0.5]   # Neutral user (balanced preferences)\n",
    "}\n",
    "print(\"Mock embeddings set up:\", mock_embeddings)"
   ]
  },
  {
   "cell_type": "code",
   "execution_count": 57,
   "id": "e6ed4ac3",
   "metadata": {},
   "outputs": [
    {
     "name": "stdout",
     "output_type": "stream",
     "text": [
      "User1 recommendation: {'recommendation': 'Casual blue t-shirt', 'confidence': 0.9}\n",
      "User2 recommendation: {'recommendation': 'Trendy leather jacket', 'confidence': 0.85}\n",
      "User3 recommendation: {'recommendation': 'Versatile black jeans', 'confidence': 0.8}\n",
      "Unknown user recommendation: {'recommendation': 'Explore new styles', 'confidence': 0.7}\n"
     ]
    }
   ],
   "source": [
    "#Mock Recommendation Function for Login Context\n",
    "def mock_recommendation(user_id):\n",
    "    recommendations = {\n",
    "        \"User1\": {\"recommendation\": \"Casual blue t-shirt\", \"confidence\": 0.9},\n",
    "        \"User2\": {\"recommendation\": \"Trendy leather jacket\", \"confidence\": 0.85},\n",
    "        \"User3\": {\"recommendation\": \"Versatile black jeans\", \"confidence\": 0.8}\n",
    "    }\n",
    "    return recommendations.get(user_id, {\"recommendation\": \"Explore new styles\", \"confidence\": 0.7})\n",
    "\n",
    "# Test cases\n",
    "print(\"User1 recommendation:\", mock_recommendation(\"User1\"))\n",
    "print(\"User2 recommendation:\", mock_recommendation(\"User2\"))\n",
    "print(\"User3 recommendation:\", mock_recommendation(\"User3\"))\n",
    "print(\"Unknown user recommendation:\", mock_recommendation(\"UserX\"))\n"
   ]
  },
  {
   "cell_type": "code",
   "execution_count": 58,
   "id": "2259274b",
   "metadata": {},
   "outputs": [],
   "source": [
    "#Mock PersonaMesh Recommendation:\n",
    "#Input: `user_id` from login context (e.g., JWT token).\n",
    "#Output: Dictionary with recommendation and confidence score.\n",
    "#Logic: Maps `user_id` to preset recommendations based on mock embeddings.\n",
    "#For Backend: Call this during `/auth/login` to test personalization.\n"
   ]
  },
  {
   "cell_type": "markdown",
   "id": "7ffbaa07",
   "metadata": {},
   "source": [
    "Day 4"
   ]
  },
  {
   "cell_type": "code",
   "execution_count": 59,
   "id": "6e355455",
   "metadata": {},
   "outputs": [],
   "source": [
    "# Mock InfinityBrain Orchestration Logs\n",
    "# Generating and storing fake API response logs in a CSV for testing to support the Admin dashboard with sample AI data."
   ]
  },
  {
   "cell_type": "code",
   "execution_count": 60,
   "id": "c8f78d17",
   "metadata": {},
   "outputs": [],
   "source": [
    "from datetime import datetime\n",
    "import csv\n",
    "import os\n",
    "import random"
   ]
  },
  {
   "cell_type": "code",
   "execution_count": 61,
   "id": "2dcd14a5",
   "metadata": {},
   "outputs": [],
   "source": [
    "# Mock prediction function\n",
    "def mock_infinitybrain_predict(prompt):\n",
    "    trends = [\"High demand for blue dresses\", \"Rise in sustainable jackets\", \"Popular neon tops\"]\n",
    "    confidence = round(random.uniform(0.8, 0.95), 2)\n",
    "    return {\"trend_forecast\": random.choice(trends), \"confidence\": confidence}\n",
    "\n",
    "# Mock recommendation function\n",
    "def mock_personamesh_recommend(user_id):\n",
    "    if user_id == \"user1\":\n",
    "        return {\"recommendation\": \"Casual blue t-shirt\", \"confidence\": 0.9}\n",
    "    elif user_id == \"user2\":\n",
    "        return {\"recommendation\": \"Trendy leather jacket\", \"confidence\": 0.85}\n",
    "    else:\n",
    "        return {\"recommendation\": \"Explore new styles\", \"confidence\": 0.7}"
   ]
  },
  {
   "cell_type": "code",
   "execution_count": 62,
   "id": "b4c696b3",
   "metadata": {},
   "outputs": [
    {
     "name": "stdout",
     "output_type": "stream",
     "text": [
      "Logs saved to: data\\logs\\infinitybrain_logs.csv\n"
     ]
    }
   ],
   "source": [
    "# Generate mock orchestration logs\n",
    "log_data = []\n",
    "for user_id in [\"user1\", \"user2\", \"user3\"]:\n",
    "    response = mock_infinitybrain_predict(\"test\") if user_id == \"user1\" else mock_personamesh_recommend(user_id)\n",
    "    log_entry = {\n",
    "        \"user_id\": user_id,\n",
    "        \"timestamp\": datetime.now().strftime(\"%Y-%m-%d %H:%M:%S\"),\n",
    "        \"api_call\": \"predict\" if user_id == \"user1\" else \"recommend\",\n",
    "        \"response_type\": \"trend_forecast\" if user_id == \"user1\" else \"recommendation\",\n",
    "        \"response_value\": response.get(\"trend_forecast\", response.get(\"recommendation\")),\n",
    "        \"confidence\": response.get(\"confidence\")\n",
    "    }\n",
    "    log_data.append(log_entry)\n",
    "\n",
    "# Use relative path from project root\n",
    "log_dir = os.path.join(\"data\", \"logs\")\n",
    "if not os.path.exists(log_dir):\n",
    "    os.makedirs(log_dir, exist_ok=True)  # Added exist_ok=True to avoid PermissionError if dir exists\n",
    "log_file = os.path.join(log_dir, 'infinitybrain_logs.csv')\n",
    "\n",
    "fieldnames = [\"user_id\", \"timestamp\", \"api_call\", \"response_type\", \"response_value\", \"confidence\"]\n",
    "with open(log_file, 'w', newline='') as csvfile:\n",
    "    writer = csv.DictWriter(csvfile, fieldnames=fieldnames)\n",
    "    writer.writeheader()\n",
    "    writer.writerows(log_data)\n",
    "\n",
    "print(f\"Logs saved to: {log_file}\")"
   ]
  },
  {
   "cell_type": "code",
   "execution_count": 63,
   "id": "8360cb7b",
   "metadata": {},
   "outputs": [
    {
     "name": "stdout",
     "output_type": "stream",
     "text": [
      "{'user_id': 'user1', 'timestamp': '2025-08-18 15:16:32', 'api_call': 'predict', 'response_type': 'trend_forecast', 'response_value': 'High demand for blue dresses', 'confidence': 0.92}\n",
      "{'user_id': 'user2', 'timestamp': '2025-08-18 15:16:32', 'api_call': 'recommend', 'response_type': 'recommendation', 'response_value': 'Trendy leather jacket', 'confidence': 0.85}\n",
      "{'user_id': 'user3', 'timestamp': '2025-08-18 15:16:32', 'api_call': 'recommend', 'response_type': 'recommendation', 'response_value': 'Explore new styles', 'confidence': 0.7}\n"
     ]
    }
   ],
   "source": [
    "# Displaying logs\n",
    "for log in log_data:\n",
    "    print(log)"
   ]
  },
  {
   "cell_type": "markdown",
   "id": "62d3852d",
   "metadata": {},
   "source": [
    "Day 5"
   ]
  },
  {
   "cell_type": "code",
   "execution_count": 64,
   "id": "9a5d04ec",
   "metadata": {},
   "outputs": [],
   "source": [
    "# Mock IntentLogic inference pipeline\n",
    "# Simulating IntentLogic to return mock intent scores"
   ]
  },
  {
   "cell_type": "code",
   "execution_count": 65,
   "id": "02040c02",
   "metadata": {},
   "outputs": [],
   "source": [
    "import random"
   ]
  },
  {
   "cell_type": "code",
   "execution_count": 66,
   "id": "500ed284",
   "metadata": {},
   "outputs": [],
   "source": [
    "# Dummy function returning mock intent scores\n",
    "\n",
    "def mock_intentlogic(user_action):\n",
    "    intent_scores = {\n",
    "        \"buy_shoes\": round(random.uniform(0.7, 0.9), 2),\n",
    "        \"buy_accessory\": round(random.uniform(0.6, 0.8), 2),\n",
    "        \"explore_more\": round(random.uniform(0.5, 0.7), 2)\n",
    "    }\n",
    "    return {\"user_action\": user_action, \"intent_scores\": intent_scores}"
   ]
  },
  {
   "cell_type": "code",
   "execution_count": 67,
   "id": "b9b591c2",
   "metadata": {},
   "outputs": [
    {
     "name": "stdout",
     "output_type": "stream",
     "text": [
      "Mock Intent Scores for viewed_dress: {'user_action': 'viewed_dress', 'intent_scores': {'buy_shoes': 0.74, 'buy_accessory': 0.74, 'explore_more': 0.63}}\n"
     ]
    }
   ],
   "source": [
    "# Testing\n",
    "test_action = \"viewed_dress\"\n",
    "result = mock_intentlogic(test_action)\n",
    "print(f\"Mock Intent Scores for {test_action}: {result}\")"
   ]
  },
  {
   "cell_type": "code",
   "execution_count": 68,
   "id": "e241e472",
   "metadata": {},
   "outputs": [],
   "source": [
    "# Dummy function to simulate VisionaryAI image analysis\n",
    "def mock_visionaryai(image_input):\n",
    "    sample_urls = [\n",
    "        \"https://example.com/images/dress1.jpg\",\n",
    "        \"https://example.com/images/dress2.jpg\",\n",
    "        \"https://example.com/images/dress3.jpg\"\n",
    "    ]\n",
    "    return {\"image_urls\": sample_urls, \"confidence\": round(random.uniform(0.8, 0.95), 2)}"
   ]
  },
  {
   "cell_type": "code",
   "execution_count": 69,
   "id": "3f7e341f",
   "metadata": {},
   "outputs": [
    {
     "name": "stdout",
     "output_type": "stream",
     "text": [
      "VisionaryAI mock result for dress.jpg: {'image_urls': ['https://example.com/images/dress1.jpg', 'https://example.com/images/dress2.jpg', 'https://example.com/images/dress3.jpg'], 'confidence': 0.86}\n"
     ]
    }
   ],
   "source": [
    "# Test the function\n",
    "test_image = \"dress.jpg\"\n",
    "result = mock_visionaryai(test_image)\n",
    "print(f\"VisionaryAI mock result for {test_image}: {result}\")"
   ]
  },
  {
   "cell_type": "code",
   "execution_count": 70,
   "id": "25238a56",
   "metadata": {},
   "outputs": [],
   "source": [
    "#Mock VisionaryAI:\n",
    "#- Input: image_input (e.g., image ID or description).\n",
    "#- Output: Dictionary with image_urls (list of sample URLs) and confidence score.\n",
    "#- Purpose: Placeholder for VisionaryAI image analysis in orchestrator.py."
   ]
  },
  {
   "cell_type": "markdown",
   "id": "32d26f27",
   "metadata": {},
   "source": [
    "Day 6"
   ]
  },
  {
   "cell_type": "code",
   "execution_count": 71,
   "id": "e1cc0d89",
   "metadata": {},
   "outputs": [],
   "source": [
    "# Manually testing the InfinityBrain AI orchestration endpoints with mock data"
   ]
  },
  {
   "cell_type": "code",
   "execution_count": 72,
   "id": "2df6779c",
   "metadata": {},
   "outputs": [],
   "source": [
    "import requests"
   ]
  },
  {
   "cell_type": "code",
   "execution_count": 73,
   "id": "84d9d29c",
   "metadata": {},
   "outputs": [],
   "source": [
    "# Testing the endpoints in infinitybrain_mock.py and in intent_logic.py"
   ]
  },
  {
   "cell_type": "code",
   "execution_count": 74,
   "id": "5f97feef",
   "metadata": {},
   "outputs": [
    {
     "ename": "ConnectionError",
     "evalue": "HTTPConnectionPool(host='localhost', port=5000): Max retries exceeded with url: /api/infinitybrain/predict (Caused by NewConnectionError('<urllib3.connection.HTTPConnection object at 0x000001F83E8F2B20>: Failed to establish a new connection: [WinError 10061] No connection could be made because the target machine actively refused it'))",
     "output_type": "error",
     "traceback": [
      "\u001b[1;31m---------------------------------------------------------------------------\u001b[0m",
      "\u001b[1;31mConnectionRefusedError\u001b[0m                    Traceback (most recent call last)",
      "File \u001b[1;32m~\\AppData\\Roaming\\Python\\Python39\\site-packages\\urllib3\\connection.py:198\u001b[0m, in \u001b[0;36mHTTPConnection._new_conn\u001b[1;34m(self)\u001b[0m\n\u001b[0;32m    197\u001b[0m \u001b[38;5;28;01mtry\u001b[39;00m:\n\u001b[1;32m--> 198\u001b[0m     sock \u001b[38;5;241m=\u001b[39m \u001b[43mconnection\u001b[49m\u001b[38;5;241;43m.\u001b[39;49m\u001b[43mcreate_connection\u001b[49m\u001b[43m(\u001b[49m\n\u001b[0;32m    199\u001b[0m \u001b[43m        \u001b[49m\u001b[43m(\u001b[49m\u001b[38;5;28;43mself\u001b[39;49m\u001b[38;5;241;43m.\u001b[39;49m\u001b[43m_dns_host\u001b[49m\u001b[43m,\u001b[49m\u001b[43m \u001b[49m\u001b[38;5;28;43mself\u001b[39;49m\u001b[38;5;241;43m.\u001b[39;49m\u001b[43mport\u001b[49m\u001b[43m)\u001b[49m\u001b[43m,\u001b[49m\n\u001b[0;32m    200\u001b[0m \u001b[43m        \u001b[49m\u001b[38;5;28;43mself\u001b[39;49m\u001b[38;5;241;43m.\u001b[39;49m\u001b[43mtimeout\u001b[49m\u001b[43m,\u001b[49m\n\u001b[0;32m    201\u001b[0m \u001b[43m        \u001b[49m\u001b[43msource_address\u001b[49m\u001b[38;5;241;43m=\u001b[39;49m\u001b[38;5;28;43mself\u001b[39;49m\u001b[38;5;241;43m.\u001b[39;49m\u001b[43msource_address\u001b[49m\u001b[43m,\u001b[49m\n\u001b[0;32m    202\u001b[0m \u001b[43m        \u001b[49m\u001b[43msocket_options\u001b[49m\u001b[38;5;241;43m=\u001b[39;49m\u001b[38;5;28;43mself\u001b[39;49m\u001b[38;5;241;43m.\u001b[39;49m\u001b[43msocket_options\u001b[49m\u001b[43m,\u001b[49m\n\u001b[0;32m    203\u001b[0m \u001b[43m    \u001b[49m\u001b[43m)\u001b[49m\n\u001b[0;32m    204\u001b[0m \u001b[38;5;28;01mexcept\u001b[39;00m socket\u001b[38;5;241m.\u001b[39mgaierror \u001b[38;5;28;01mas\u001b[39;00m e:\n",
      "File \u001b[1;32m~\\AppData\\Roaming\\Python\\Python39\\site-packages\\urllib3\\util\\connection.py:85\u001b[0m, in \u001b[0;36mcreate_connection\u001b[1;34m(address, timeout, source_address, socket_options)\u001b[0m\n\u001b[0;32m     84\u001b[0m \u001b[38;5;28;01mtry\u001b[39;00m:\n\u001b[1;32m---> 85\u001b[0m     \u001b[38;5;28;01mraise\u001b[39;00m err\n\u001b[0;32m     86\u001b[0m \u001b[38;5;28;01mfinally\u001b[39;00m:\n\u001b[0;32m     87\u001b[0m     \u001b[38;5;66;03m# Break explicitly a reference cycle\u001b[39;00m\n",
      "File \u001b[1;32m~\\AppData\\Roaming\\Python\\Python39\\site-packages\\urllib3\\util\\connection.py:73\u001b[0m, in \u001b[0;36mcreate_connection\u001b[1;34m(address, timeout, source_address, socket_options)\u001b[0m\n\u001b[0;32m     72\u001b[0m     sock\u001b[38;5;241m.\u001b[39mbind(source_address)\n\u001b[1;32m---> 73\u001b[0m \u001b[43msock\u001b[49m\u001b[38;5;241;43m.\u001b[39;49m\u001b[43mconnect\u001b[49m\u001b[43m(\u001b[49m\u001b[43msa\u001b[49m\u001b[43m)\u001b[49m\n\u001b[0;32m     74\u001b[0m \u001b[38;5;66;03m# Break explicitly a reference cycle\u001b[39;00m\n",
      "\u001b[1;31mConnectionRefusedError\u001b[0m: [WinError 10061] No connection could be made because the target machine actively refused it",
      "\nThe above exception was the direct cause of the following exception:\n",
      "\u001b[1;31mNewConnectionError\u001b[0m                        Traceback (most recent call last)",
      "File \u001b[1;32m~\\AppData\\Roaming\\Python\\Python39\\site-packages\\urllib3\\connectionpool.py:787\u001b[0m, in \u001b[0;36mHTTPConnectionPool.urlopen\u001b[1;34m(self, method, url, body, headers, retries, redirect, assert_same_host, timeout, pool_timeout, release_conn, chunked, body_pos, preload_content, decode_content, **response_kw)\u001b[0m\n\u001b[0;32m    786\u001b[0m \u001b[38;5;66;03m# Make the request on the HTTPConnection object\u001b[39;00m\n\u001b[1;32m--> 787\u001b[0m response \u001b[38;5;241m=\u001b[39m \u001b[38;5;28mself\u001b[39m\u001b[38;5;241m.\u001b[39m_make_request(\n\u001b[0;32m    788\u001b[0m     conn,\n\u001b[0;32m    789\u001b[0m     method,\n\u001b[0;32m    790\u001b[0m     url,\n\u001b[0;32m    791\u001b[0m     timeout\u001b[38;5;241m=\u001b[39mtimeout_obj,\n\u001b[0;32m    792\u001b[0m     body\u001b[38;5;241m=\u001b[39mbody,\n\u001b[0;32m    793\u001b[0m     headers\u001b[38;5;241m=\u001b[39mheaders,\n\u001b[0;32m    794\u001b[0m     chunked\u001b[38;5;241m=\u001b[39mchunked,\n\u001b[0;32m    795\u001b[0m     retries\u001b[38;5;241m=\u001b[39mretries,\n\u001b[0;32m    796\u001b[0m     response_conn\u001b[38;5;241m=\u001b[39mresponse_conn,\n\u001b[0;32m    797\u001b[0m     preload_content\u001b[38;5;241m=\u001b[39mpreload_content,\n\u001b[0;32m    798\u001b[0m     decode_content\u001b[38;5;241m=\u001b[39mdecode_content,\n\u001b[0;32m    799\u001b[0m     \u001b[38;5;241m*\u001b[39m\u001b[38;5;241m*\u001b[39mresponse_kw,\n\u001b[0;32m    800\u001b[0m )\n\u001b[0;32m    802\u001b[0m \u001b[38;5;66;03m# Everything went great!\u001b[39;00m\n",
      "File \u001b[1;32m~\\AppData\\Roaming\\Python\\Python39\\site-packages\\urllib3\\connectionpool.py:493\u001b[0m, in \u001b[0;36mHTTPConnectionPool._make_request\u001b[1;34m(self, conn, method, url, body, headers, retries, timeout, chunked, response_conn, preload_content, decode_content, enforce_content_length)\u001b[0m\n\u001b[0;32m    492\u001b[0m \u001b[38;5;28;01mtry\u001b[39;00m:\n\u001b[1;32m--> 493\u001b[0m     \u001b[43mconn\u001b[49m\u001b[38;5;241;43m.\u001b[39;49m\u001b[43mrequest\u001b[49m\u001b[43m(\u001b[49m\n\u001b[0;32m    494\u001b[0m \u001b[43m        \u001b[49m\u001b[43mmethod\u001b[49m\u001b[43m,\u001b[49m\n\u001b[0;32m    495\u001b[0m \u001b[43m        \u001b[49m\u001b[43murl\u001b[49m\u001b[43m,\u001b[49m\n\u001b[0;32m    496\u001b[0m \u001b[43m        \u001b[49m\u001b[43mbody\u001b[49m\u001b[38;5;241;43m=\u001b[39;49m\u001b[43mbody\u001b[49m\u001b[43m,\u001b[49m\n\u001b[0;32m    497\u001b[0m \u001b[43m        \u001b[49m\u001b[43mheaders\u001b[49m\u001b[38;5;241;43m=\u001b[39;49m\u001b[43mheaders\u001b[49m\u001b[43m,\u001b[49m\n\u001b[0;32m    498\u001b[0m \u001b[43m        \u001b[49m\u001b[43mchunked\u001b[49m\u001b[38;5;241;43m=\u001b[39;49m\u001b[43mchunked\u001b[49m\u001b[43m,\u001b[49m\n\u001b[0;32m    499\u001b[0m \u001b[43m        \u001b[49m\u001b[43mpreload_content\u001b[49m\u001b[38;5;241;43m=\u001b[39;49m\u001b[43mpreload_content\u001b[49m\u001b[43m,\u001b[49m\n\u001b[0;32m    500\u001b[0m \u001b[43m        \u001b[49m\u001b[43mdecode_content\u001b[49m\u001b[38;5;241;43m=\u001b[39;49m\u001b[43mdecode_content\u001b[49m\u001b[43m,\u001b[49m\n\u001b[0;32m    501\u001b[0m \u001b[43m        \u001b[49m\u001b[43menforce_content_length\u001b[49m\u001b[38;5;241;43m=\u001b[39;49m\u001b[43menforce_content_length\u001b[49m\u001b[43m,\u001b[49m\n\u001b[0;32m    502\u001b[0m \u001b[43m    \u001b[49m\u001b[43m)\u001b[49m\n\u001b[0;32m    504\u001b[0m \u001b[38;5;66;03m# We are swallowing BrokenPipeError (errno.EPIPE) since the server is\u001b[39;00m\n\u001b[0;32m    505\u001b[0m \u001b[38;5;66;03m# legitimately able to close the connection after sending a valid response.\u001b[39;00m\n\u001b[0;32m    506\u001b[0m \u001b[38;5;66;03m# With this behaviour, the received response is still readable.\u001b[39;00m\n",
      "File \u001b[1;32m~\\AppData\\Roaming\\Python\\Python39\\site-packages\\urllib3\\connection.py:445\u001b[0m, in \u001b[0;36mHTTPConnection.request\u001b[1;34m(self, method, url, body, headers, chunked, preload_content, decode_content, enforce_content_length)\u001b[0m\n\u001b[0;32m    444\u001b[0m     \u001b[38;5;28mself\u001b[39m\u001b[38;5;241m.\u001b[39mputheader(header, value)\n\u001b[1;32m--> 445\u001b[0m \u001b[38;5;28;43mself\u001b[39;49m\u001b[38;5;241;43m.\u001b[39;49m\u001b[43mendheaders\u001b[49m\u001b[43m(\u001b[49m\u001b[43m)\u001b[49m\n\u001b[0;32m    447\u001b[0m \u001b[38;5;66;03m# If we're given a body we start sending that in chunks.\u001b[39;00m\n",
      "File \u001b[1;32mc:\\Program Files\\Python39\\lib\\http\\client.py:1280\u001b[0m, in \u001b[0;36mHTTPConnection.endheaders\u001b[1;34m(self, message_body, encode_chunked)\u001b[0m\n\u001b[0;32m   1279\u001b[0m     \u001b[38;5;28;01mraise\u001b[39;00m CannotSendHeader()\n\u001b[1;32m-> 1280\u001b[0m \u001b[38;5;28;43mself\u001b[39;49m\u001b[38;5;241;43m.\u001b[39;49m\u001b[43m_send_output\u001b[49m\u001b[43m(\u001b[49m\u001b[43mmessage_body\u001b[49m\u001b[43m,\u001b[49m\u001b[43m \u001b[49m\u001b[43mencode_chunked\u001b[49m\u001b[38;5;241;43m=\u001b[39;49m\u001b[43mencode_chunked\u001b[49m\u001b[43m)\u001b[49m\n",
      "File \u001b[1;32mc:\\Program Files\\Python39\\lib\\http\\client.py:1040\u001b[0m, in \u001b[0;36mHTTPConnection._send_output\u001b[1;34m(self, message_body, encode_chunked)\u001b[0m\n\u001b[0;32m   1039\u001b[0m \u001b[38;5;28;01mdel\u001b[39;00m \u001b[38;5;28mself\u001b[39m\u001b[38;5;241m.\u001b[39m_buffer[:]\n\u001b[1;32m-> 1040\u001b[0m \u001b[38;5;28;43mself\u001b[39;49m\u001b[38;5;241;43m.\u001b[39;49m\u001b[43msend\u001b[49m\u001b[43m(\u001b[49m\u001b[43mmsg\u001b[49m\u001b[43m)\u001b[49m\n\u001b[0;32m   1042\u001b[0m \u001b[38;5;28;01mif\u001b[39;00m message_body \u001b[38;5;129;01mis\u001b[39;00m \u001b[38;5;129;01mnot\u001b[39;00m \u001b[38;5;28;01mNone\u001b[39;00m:\n\u001b[0;32m   1043\u001b[0m \n\u001b[0;32m   1044\u001b[0m     \u001b[38;5;66;03m# create a consistent interface to message_body\u001b[39;00m\n",
      "File \u001b[1;32mc:\\Program Files\\Python39\\lib\\http\\client.py:980\u001b[0m, in \u001b[0;36mHTTPConnection.send\u001b[1;34m(self, data)\u001b[0m\n\u001b[0;32m    979\u001b[0m \u001b[38;5;28;01mif\u001b[39;00m \u001b[38;5;28mself\u001b[39m\u001b[38;5;241m.\u001b[39mauto_open:\n\u001b[1;32m--> 980\u001b[0m     \u001b[38;5;28;43mself\u001b[39;49m\u001b[38;5;241;43m.\u001b[39;49m\u001b[43mconnect\u001b[49m\u001b[43m(\u001b[49m\u001b[43m)\u001b[49m\n\u001b[0;32m    981\u001b[0m \u001b[38;5;28;01melse\u001b[39;00m:\n",
      "File \u001b[1;32m~\\AppData\\Roaming\\Python\\Python39\\site-packages\\urllib3\\connection.py:276\u001b[0m, in \u001b[0;36mHTTPConnection.connect\u001b[1;34m(self)\u001b[0m\n\u001b[0;32m    275\u001b[0m \u001b[38;5;28;01mdef\u001b[39;00m\u001b[38;5;250m \u001b[39m\u001b[38;5;21mconnect\u001b[39m(\u001b[38;5;28mself\u001b[39m) \u001b[38;5;241m-\u001b[39m\u001b[38;5;241m>\u001b[39m \u001b[38;5;28;01mNone\u001b[39;00m:\n\u001b[1;32m--> 276\u001b[0m     \u001b[38;5;28mself\u001b[39m\u001b[38;5;241m.\u001b[39msock \u001b[38;5;241m=\u001b[39m \u001b[38;5;28;43mself\u001b[39;49m\u001b[38;5;241;43m.\u001b[39;49m\u001b[43m_new_conn\u001b[49m\u001b[43m(\u001b[49m\u001b[43m)\u001b[49m\n\u001b[0;32m    277\u001b[0m     \u001b[38;5;28;01mif\u001b[39;00m \u001b[38;5;28mself\u001b[39m\u001b[38;5;241m.\u001b[39m_tunnel_host:\n\u001b[0;32m    278\u001b[0m         \u001b[38;5;66;03m# If we're tunneling it means we're connected to our proxy.\u001b[39;00m\n",
      "File \u001b[1;32m~\\AppData\\Roaming\\Python\\Python39\\site-packages\\urllib3\\connection.py:213\u001b[0m, in \u001b[0;36mHTTPConnection._new_conn\u001b[1;34m(self)\u001b[0m\n\u001b[0;32m    212\u001b[0m \u001b[38;5;28;01mexcept\u001b[39;00m \u001b[38;5;167;01mOSError\u001b[39;00m \u001b[38;5;28;01mas\u001b[39;00m e:\n\u001b[1;32m--> 213\u001b[0m     \u001b[38;5;28;01mraise\u001b[39;00m NewConnectionError(\n\u001b[0;32m    214\u001b[0m         \u001b[38;5;28mself\u001b[39m, \u001b[38;5;124mf\u001b[39m\u001b[38;5;124m\"\u001b[39m\u001b[38;5;124mFailed to establish a new connection: \u001b[39m\u001b[38;5;132;01m{\u001b[39;00me\u001b[38;5;132;01m}\u001b[39;00m\u001b[38;5;124m\"\u001b[39m\n\u001b[0;32m    215\u001b[0m     ) \u001b[38;5;28;01mfrom\u001b[39;00m\u001b[38;5;250m \u001b[39m\u001b[38;5;21;01me\u001b[39;00m\n\u001b[0;32m    217\u001b[0m sys\u001b[38;5;241m.\u001b[39maudit(\u001b[38;5;124m\"\u001b[39m\u001b[38;5;124mhttp.client.connect\u001b[39m\u001b[38;5;124m\"\u001b[39m, \u001b[38;5;28mself\u001b[39m, \u001b[38;5;28mself\u001b[39m\u001b[38;5;241m.\u001b[39mhost, \u001b[38;5;28mself\u001b[39m\u001b[38;5;241m.\u001b[39mport)\n",
      "\u001b[1;31mNewConnectionError\u001b[0m: <urllib3.connection.HTTPConnection object at 0x000001F83E8F2B20>: Failed to establish a new connection: [WinError 10061] No connection could be made because the target machine actively refused it",
      "\nThe above exception was the direct cause of the following exception:\n",
      "\u001b[1;31mMaxRetryError\u001b[0m                             Traceback (most recent call last)",
      "File \u001b[1;32m~\\AppData\\Roaming\\Python\\Python39\\site-packages\\requests\\adapters.py:667\u001b[0m, in \u001b[0;36mHTTPAdapter.send\u001b[1;34m(self, request, stream, timeout, verify, cert, proxies)\u001b[0m\n\u001b[0;32m    666\u001b[0m \u001b[38;5;28;01mtry\u001b[39;00m:\n\u001b[1;32m--> 667\u001b[0m     resp \u001b[38;5;241m=\u001b[39m \u001b[43mconn\u001b[49m\u001b[38;5;241;43m.\u001b[39;49m\u001b[43murlopen\u001b[49m\u001b[43m(\u001b[49m\n\u001b[0;32m    668\u001b[0m \u001b[43m        \u001b[49m\u001b[43mmethod\u001b[49m\u001b[38;5;241;43m=\u001b[39;49m\u001b[43mrequest\u001b[49m\u001b[38;5;241;43m.\u001b[39;49m\u001b[43mmethod\u001b[49m\u001b[43m,\u001b[49m\n\u001b[0;32m    669\u001b[0m \u001b[43m        \u001b[49m\u001b[43murl\u001b[49m\u001b[38;5;241;43m=\u001b[39;49m\u001b[43murl\u001b[49m\u001b[43m,\u001b[49m\n\u001b[0;32m    670\u001b[0m \u001b[43m        \u001b[49m\u001b[43mbody\u001b[49m\u001b[38;5;241;43m=\u001b[39;49m\u001b[43mrequest\u001b[49m\u001b[38;5;241;43m.\u001b[39;49m\u001b[43mbody\u001b[49m\u001b[43m,\u001b[49m\n\u001b[0;32m    671\u001b[0m \u001b[43m        \u001b[49m\u001b[43mheaders\u001b[49m\u001b[38;5;241;43m=\u001b[39;49m\u001b[43mrequest\u001b[49m\u001b[38;5;241;43m.\u001b[39;49m\u001b[43mheaders\u001b[49m\u001b[43m,\u001b[49m\n\u001b[0;32m    672\u001b[0m \u001b[43m        \u001b[49m\u001b[43mredirect\u001b[49m\u001b[38;5;241;43m=\u001b[39;49m\u001b[38;5;28;43;01mFalse\u001b[39;49;00m\u001b[43m,\u001b[49m\n\u001b[0;32m    673\u001b[0m \u001b[43m        \u001b[49m\u001b[43massert_same_host\u001b[49m\u001b[38;5;241;43m=\u001b[39;49m\u001b[38;5;28;43;01mFalse\u001b[39;49;00m\u001b[43m,\u001b[49m\n\u001b[0;32m    674\u001b[0m \u001b[43m        \u001b[49m\u001b[43mpreload_content\u001b[49m\u001b[38;5;241;43m=\u001b[39;49m\u001b[38;5;28;43;01mFalse\u001b[39;49;00m\u001b[43m,\u001b[49m\n\u001b[0;32m    675\u001b[0m \u001b[43m        \u001b[49m\u001b[43mdecode_content\u001b[49m\u001b[38;5;241;43m=\u001b[39;49m\u001b[38;5;28;43;01mFalse\u001b[39;49;00m\u001b[43m,\u001b[49m\n\u001b[0;32m    676\u001b[0m \u001b[43m        \u001b[49m\u001b[43mretries\u001b[49m\u001b[38;5;241;43m=\u001b[39;49m\u001b[38;5;28;43mself\u001b[39;49m\u001b[38;5;241;43m.\u001b[39;49m\u001b[43mmax_retries\u001b[49m\u001b[43m,\u001b[49m\n\u001b[0;32m    677\u001b[0m \u001b[43m        \u001b[49m\u001b[43mtimeout\u001b[49m\u001b[38;5;241;43m=\u001b[39;49m\u001b[43mtimeout\u001b[49m\u001b[43m,\u001b[49m\n\u001b[0;32m    678\u001b[0m \u001b[43m        \u001b[49m\u001b[43mchunked\u001b[49m\u001b[38;5;241;43m=\u001b[39;49m\u001b[43mchunked\u001b[49m\u001b[43m,\u001b[49m\n\u001b[0;32m    679\u001b[0m \u001b[43m    \u001b[49m\u001b[43m)\u001b[49m\n\u001b[0;32m    681\u001b[0m \u001b[38;5;28;01mexcept\u001b[39;00m (ProtocolError, \u001b[38;5;167;01mOSError\u001b[39;00m) \u001b[38;5;28;01mas\u001b[39;00m err:\n",
      "File \u001b[1;32m~\\AppData\\Roaming\\Python\\Python39\\site-packages\\urllib3\\connectionpool.py:841\u001b[0m, in \u001b[0;36mHTTPConnectionPool.urlopen\u001b[1;34m(self, method, url, body, headers, retries, redirect, assert_same_host, timeout, pool_timeout, release_conn, chunked, body_pos, preload_content, decode_content, **response_kw)\u001b[0m\n\u001b[0;32m    839\u001b[0m     new_e \u001b[38;5;241m=\u001b[39m ProtocolError(\u001b[38;5;124m\"\u001b[39m\u001b[38;5;124mConnection aborted.\u001b[39m\u001b[38;5;124m\"\u001b[39m, new_e)\n\u001b[1;32m--> 841\u001b[0m retries \u001b[38;5;241m=\u001b[39m \u001b[43mretries\u001b[49m\u001b[38;5;241;43m.\u001b[39;49m\u001b[43mincrement\u001b[49m\u001b[43m(\u001b[49m\n\u001b[0;32m    842\u001b[0m \u001b[43m    \u001b[49m\u001b[43mmethod\u001b[49m\u001b[43m,\u001b[49m\u001b[43m \u001b[49m\u001b[43murl\u001b[49m\u001b[43m,\u001b[49m\u001b[43m \u001b[49m\u001b[43merror\u001b[49m\u001b[38;5;241;43m=\u001b[39;49m\u001b[43mnew_e\u001b[49m\u001b[43m,\u001b[49m\u001b[43m \u001b[49m\u001b[43m_pool\u001b[49m\u001b[38;5;241;43m=\u001b[39;49m\u001b[38;5;28;43mself\u001b[39;49m\u001b[43m,\u001b[49m\u001b[43m \u001b[49m\u001b[43m_stacktrace\u001b[49m\u001b[38;5;241;43m=\u001b[39;49m\u001b[43msys\u001b[49m\u001b[38;5;241;43m.\u001b[39;49m\u001b[43mexc_info\u001b[49m\u001b[43m(\u001b[49m\u001b[43m)\u001b[49m\u001b[43m[\u001b[49m\u001b[38;5;241;43m2\u001b[39;49m\u001b[43m]\u001b[49m\n\u001b[0;32m    843\u001b[0m \u001b[43m\u001b[49m\u001b[43m)\u001b[49m\n\u001b[0;32m    844\u001b[0m retries\u001b[38;5;241m.\u001b[39msleep()\n",
      "File \u001b[1;32m~\\AppData\\Roaming\\Python\\Python39\\site-packages\\urllib3\\util\\retry.py:519\u001b[0m, in \u001b[0;36mRetry.increment\u001b[1;34m(self, method, url, response, error, _pool, _stacktrace)\u001b[0m\n\u001b[0;32m    518\u001b[0m     reason \u001b[38;5;241m=\u001b[39m error \u001b[38;5;129;01mor\u001b[39;00m ResponseError(cause)\n\u001b[1;32m--> 519\u001b[0m     \u001b[38;5;28;01mraise\u001b[39;00m MaxRetryError(_pool, url, reason) \u001b[38;5;28;01mfrom\u001b[39;00m\u001b[38;5;250m \u001b[39m\u001b[38;5;21;01mreason\u001b[39;00m  \u001b[38;5;66;03m# type: ignore[arg-type]\u001b[39;00m\n\u001b[0;32m    521\u001b[0m log\u001b[38;5;241m.\u001b[39mdebug(\u001b[38;5;124m\"\u001b[39m\u001b[38;5;124mIncremented Retry for (url=\u001b[39m\u001b[38;5;124m'\u001b[39m\u001b[38;5;132;01m%s\u001b[39;00m\u001b[38;5;124m'\u001b[39m\u001b[38;5;124m): \u001b[39m\u001b[38;5;132;01m%r\u001b[39;00m\u001b[38;5;124m\"\u001b[39m, url, new_retry)\n",
      "\u001b[1;31mMaxRetryError\u001b[0m: HTTPConnectionPool(host='localhost', port=5000): Max retries exceeded with url: /api/infinitybrain/predict (Caused by NewConnectionError('<urllib3.connection.HTTPConnection object at 0x000001F83E8F2B20>: Failed to establish a new connection: [WinError 10061] No connection could be made because the target machine actively refused it'))",
      "\nDuring handling of the above exception, another exception occurred:\n",
      "\u001b[1;31mConnectionError\u001b[0m                           Traceback (most recent call last)",
      "Cell \u001b[1;32mIn[74], line 4\u001b[0m\n\u001b[0;32m      1\u001b[0m \u001b[38;5;66;03m# Testing /api/infinitybrain/predict in infinitybrain_mock.py\u001b[39;00m\n\u001b[0;32m      3\u001b[0m predict_url \u001b[38;5;241m=\u001b[39m \u001b[38;5;124m\"\u001b[39m\u001b[38;5;124mhttp://localhost:5000/api/infinitybrain/predict\u001b[39m\u001b[38;5;124m\"\u001b[39m\n\u001b[1;32m----> 4\u001b[0m predict_response \u001b[38;5;241m=\u001b[39m \u001b[43mrequests\u001b[49m\u001b[38;5;241;43m.\u001b[39;49m\u001b[43mpost\u001b[49m\u001b[43m(\u001b[49m\u001b[43mpredict_url\u001b[49m\u001b[43m,\u001b[49m\u001b[43m \u001b[49m\u001b[43mjson\u001b[49m\u001b[38;5;241;43m=\u001b[39;49m\u001b[43m{\u001b[49m\u001b[38;5;124;43m\"\u001b[39;49m\u001b[38;5;124;43mprompt\u001b[39;49m\u001b[38;5;124;43m\"\u001b[39;49m\u001b[43m:\u001b[49m\u001b[43m \u001b[49m\u001b[38;5;124;43m\"\u001b[39;49m\u001b[38;5;124;43mPredict the trend for the new year\u001b[39;49m\u001b[38;5;124;43m\"\u001b[39;49m\u001b[43m}\u001b[49m\u001b[43m)\u001b[49m\n\u001b[0;32m      5\u001b[0m \u001b[38;5;28mprint\u001b[39m(\u001b[38;5;124m\"\u001b[39m\u001b[38;5;124mPredicted Response:\u001b[39m\u001b[38;5;124m\"\u001b[39m, predict_response\u001b[38;5;241m.\u001b[39mjson())\n\u001b[0;32m      6\u001b[0m \u001b[38;5;28;01massert\u001b[39;00m predict_response\u001b[38;5;241m.\u001b[39mstatus_code \u001b[38;5;241m==\u001b[39m \u001b[38;5;241m200\u001b[39m, \u001b[38;5;124m\"\u001b[39m\u001b[38;5;124mPredict endpoint failed\u001b[39m\u001b[38;5;124m\"\u001b[39m\n",
      "File \u001b[1;32m~\\AppData\\Roaming\\Python\\Python39\\site-packages\\requests\\api.py:115\u001b[0m, in \u001b[0;36mpost\u001b[1;34m(url, data, json, **kwargs)\u001b[0m\n\u001b[0;32m    103\u001b[0m \u001b[38;5;28;01mdef\u001b[39;00m\u001b[38;5;250m \u001b[39m\u001b[38;5;21mpost\u001b[39m(url, data\u001b[38;5;241m=\u001b[39m\u001b[38;5;28;01mNone\u001b[39;00m, json\u001b[38;5;241m=\u001b[39m\u001b[38;5;28;01mNone\u001b[39;00m, \u001b[38;5;241m*\u001b[39m\u001b[38;5;241m*\u001b[39mkwargs):\n\u001b[0;32m    104\u001b[0m \u001b[38;5;250m    \u001b[39m\u001b[38;5;124mr\u001b[39m\u001b[38;5;124;03m\"\"\"Sends a POST request.\u001b[39;00m\n\u001b[0;32m    105\u001b[0m \n\u001b[0;32m    106\u001b[0m \u001b[38;5;124;03m    :param url: URL for the new :class:`Request` object.\u001b[39;00m\n\u001b[1;32m   (...)\u001b[0m\n\u001b[0;32m    112\u001b[0m \u001b[38;5;124;03m    :rtype: requests.Response\u001b[39;00m\n\u001b[0;32m    113\u001b[0m \u001b[38;5;124;03m    \"\"\"\u001b[39;00m\n\u001b[1;32m--> 115\u001b[0m     \u001b[38;5;28;01mreturn\u001b[39;00m request(\u001b[38;5;124m\"\u001b[39m\u001b[38;5;124mpost\u001b[39m\u001b[38;5;124m\"\u001b[39m, url, data\u001b[38;5;241m=\u001b[39mdata, json\u001b[38;5;241m=\u001b[39mjson, \u001b[38;5;241m*\u001b[39m\u001b[38;5;241m*\u001b[39mkwargs)\n",
      "File \u001b[1;32m~\\AppData\\Roaming\\Python\\Python39\\site-packages\\requests\\api.py:59\u001b[0m, in \u001b[0;36mrequest\u001b[1;34m(method, url, **kwargs)\u001b[0m\n\u001b[0;32m     55\u001b[0m \u001b[38;5;66;03m# By using the 'with' statement we are sure the session is closed, thus we\u001b[39;00m\n\u001b[0;32m     56\u001b[0m \u001b[38;5;66;03m# avoid leaving sockets open which can trigger a ResourceWarning in some\u001b[39;00m\n\u001b[0;32m     57\u001b[0m \u001b[38;5;66;03m# cases, and look like a memory leak in others.\u001b[39;00m\n\u001b[0;32m     58\u001b[0m \u001b[38;5;28;01mwith\u001b[39;00m sessions\u001b[38;5;241m.\u001b[39mSession() \u001b[38;5;28;01mas\u001b[39;00m session:\n\u001b[1;32m---> 59\u001b[0m     \u001b[38;5;28;01mreturn\u001b[39;00m session\u001b[38;5;241m.\u001b[39mrequest(method\u001b[38;5;241m=\u001b[39mmethod, url\u001b[38;5;241m=\u001b[39murl, \u001b[38;5;241m*\u001b[39m\u001b[38;5;241m*\u001b[39mkwargs)\n",
      "File \u001b[1;32m~\\AppData\\Roaming\\Python\\Python39\\site-packages\\requests\\sessions.py:589\u001b[0m, in \u001b[0;36mSession.request\u001b[1;34m(self, method, url, params, data, headers, cookies, files, auth, timeout, allow_redirects, proxies, hooks, stream, verify, cert, json)\u001b[0m\n\u001b[0;32m    584\u001b[0m send_kwargs \u001b[38;5;241m=\u001b[39m {\n\u001b[0;32m    585\u001b[0m     \u001b[38;5;124m\"\u001b[39m\u001b[38;5;124mtimeout\u001b[39m\u001b[38;5;124m\"\u001b[39m: timeout,\n\u001b[0;32m    586\u001b[0m     \u001b[38;5;124m\"\u001b[39m\u001b[38;5;124mallow_redirects\u001b[39m\u001b[38;5;124m\"\u001b[39m: allow_redirects,\n\u001b[0;32m    587\u001b[0m }\n\u001b[0;32m    588\u001b[0m send_kwargs\u001b[38;5;241m.\u001b[39mupdate(settings)\n\u001b[1;32m--> 589\u001b[0m resp \u001b[38;5;241m=\u001b[39m \u001b[38;5;28mself\u001b[39m\u001b[38;5;241m.\u001b[39msend(prep, \u001b[38;5;241m*\u001b[39m\u001b[38;5;241m*\u001b[39msend_kwargs)\n\u001b[0;32m    591\u001b[0m \u001b[38;5;28;01mreturn\u001b[39;00m resp\n",
      "File \u001b[1;32m~\\AppData\\Roaming\\Python\\Python39\\site-packages\\requests\\sessions.py:703\u001b[0m, in \u001b[0;36mSession.send\u001b[1;34m(self, request, **kwargs)\u001b[0m\n\u001b[0;32m    700\u001b[0m start \u001b[38;5;241m=\u001b[39m preferred_clock()\n\u001b[0;32m    702\u001b[0m \u001b[38;5;66;03m# Send the request\u001b[39;00m\n\u001b[1;32m--> 703\u001b[0m r \u001b[38;5;241m=\u001b[39m adapter\u001b[38;5;241m.\u001b[39msend(request, \u001b[38;5;241m*\u001b[39m\u001b[38;5;241m*\u001b[39mkwargs)\n\u001b[0;32m    705\u001b[0m \u001b[38;5;66;03m# Total elapsed time of the request (approximately)\u001b[39;00m\n\u001b[0;32m    706\u001b[0m elapsed \u001b[38;5;241m=\u001b[39m preferred_clock() \u001b[38;5;241m-\u001b[39m start\n",
      "File \u001b[1;32m~\\AppData\\Roaming\\Python\\Python39\\site-packages\\requests\\adapters.py:700\u001b[0m, in \u001b[0;36mHTTPAdapter.send\u001b[1;34m(self, request, stream, timeout, verify, cert, proxies)\u001b[0m\n\u001b[0;32m    696\u001b[0m     \u001b[38;5;28;01mif\u001b[39;00m \u001b[38;5;28misinstance\u001b[39m(e\u001b[38;5;241m.\u001b[39mreason, _SSLError):\n\u001b[0;32m    697\u001b[0m         \u001b[38;5;66;03m# This branch is for urllib3 v1.22 and later.\u001b[39;00m\n\u001b[0;32m    698\u001b[0m         \u001b[38;5;28;01mraise\u001b[39;00m SSLError(e, request\u001b[38;5;241m=\u001b[39mrequest)\n\u001b[1;32m--> 700\u001b[0m     \u001b[38;5;28;01mraise\u001b[39;00m \u001b[38;5;167;01mConnectionError\u001b[39;00m(e, request\u001b[38;5;241m=\u001b[39mrequest)\n\u001b[0;32m    702\u001b[0m \u001b[38;5;28;01mexcept\u001b[39;00m ClosedPoolError \u001b[38;5;28;01mas\u001b[39;00m e:\n\u001b[0;32m    703\u001b[0m     \u001b[38;5;28;01mraise\u001b[39;00m \u001b[38;5;167;01mConnectionError\u001b[39;00m(e, request\u001b[38;5;241m=\u001b[39mrequest)\n",
      "\u001b[1;31mConnectionError\u001b[0m: HTTPConnectionPool(host='localhost', port=5000): Max retries exceeded with url: /api/infinitybrain/predict (Caused by NewConnectionError('<urllib3.connection.HTTPConnection object at 0x000001F83E8F2B20>: Failed to establish a new connection: [WinError 10061] No connection could be made because the target machine actively refused it'))"
     ]
    }
   ],
   "source": [
    "# Testing /api/infinitybrain/predict in infinitybrain_mock.py\n",
    "\n",
    "predict_url = \"http://localhost:5000/api/infinitybrain/predict\"\n",
    "predict_response = requests.post(predict_url, json={\"prompt\": \"Predict the trend for the new year\"})\n",
    "print(\"Predicted Response:\", predict_response.json())\n",
    "assert predict_response.status_code == 200, \"Predict endpoint failed\"\n",
    "assert \"trend_forecast\" in predict_response.json(), \"Missing trend_forecast\"\n",
    "assert 0.8 <= float(predict_response.json()[\"confidence\"]) <= 0.95, \"Confidence is out of range\""
   ]
  },
  {
   "cell_type": "code",
   "execution_count": null,
   "id": "e427178f",
   "metadata": {},
   "outputs": [
    {
     "name": "stdout",
     "output_type": "stream",
     "text": [
      "Recommended Response: {'confidence': 0.85, 'recommendation': 'Trendy leather jacket'}\n"
     ]
    }
   ],
   "source": [
    "# Testing /api/personamesh/recommend in infinitybrain_mock.py\n",
    "\n",
    "recommend_url = \"http://localhost:5000/api/personamesh/recommend\"\n",
    "recommend_response = requests.post(recommend_url, json={\"user_id\": \"user2\"})\n",
    "print(\"Recommended Response:\", recommend_response.json())\n",
    "assert recommend_response.status_code == 200, \"Recommend endpoint failed\"\n",
    "assert \"recommendation\" in recommend_response.json(), \"Missing recommendation\"\n",
    "assert 0.85 <= float(recommend_response.json()[\"confidence\"]) <= 0.9, \"Confidence is out of range for user1\""
   ]
  },
  {
   "cell_type": "code",
   "execution_count": null,
   "id": "d190fcf9",
   "metadata": {},
   "outputs": [
    {
     "name": "stdout",
     "output_type": "stream",
     "text": [
      "IntentLogic Response: {'intent_scores': {'buy_accessory': 0.61, 'buy_shoes': 0.71, 'explore_more': 0.67}, 'user_action': 'viewed_socks'}\n"
     ]
    }
   ],
   "source": [
    "# Testing /api/intentlogic in intent_logic.py\n",
    "\n",
    "intent_url = \"http://localhost:5001/api/intentlogic\"\n",
    "intent_response = requests.post(intent_url, json={\"user_action\": \"viewed_socks\"})\n",
    "print(\"IntentLogic Response:\", intent_response.json())\n",
    "assert intent_response.status_code == 200, \"IntentLogic endpoint failed\"\n",
    "assert \"intent_scores\" in intent_response.json(), \"Missing intent_scores\"\n",
    "intent_scores = intent_response.json()[\"intent_scores\"]\n",
    "assert all(0.5 <= float(v) <= 0.9 for v in intent_scores.values()), \"Intent scores is out of range\""
   ]
  },
  {
   "cell_type": "code",
   "execution_count": null,
   "id": "f08d47bd",
   "metadata": {},
   "outputs": [],
   "source": [
    "# Day 8: Mock EcoSense API Testing\n",
    "# - Task: Test /api/ecosense endpoint with mock eco-scores.\n",
    "# - Purpose: Validate EcoSense integration with InfinityBrain."
   ]
  },
  {
   "cell_type": "code",
   "execution_count": 75,
   "id": "4fb348f2",
   "metadata": {},
   "outputs": [
    {
     "name": "stdout",
     "output_type": "stream",
     "text": [
      "EcoSense Response: {'carbon_score': 3.9, 'product_id': 'dress1', 'recyclability': 0.54, 'water_usage': 86.9}\n"
     ]
    }
   ],
   "source": [
    "# Test /api/ecosense\n",
    "ecosense_url = \"http://localhost:5000/api/ecosense\"\n",
    "ecosense_response = requests.post(ecosense_url, json={\"product_id\": \"dress1\"})\n",
    "print(\"EcoSense Response:\", ecosense_response.json())\n",
    "assert ecosense_response.status_code == 200, \"EcoSense endpoint failed\"\n",
    "assert \"carbon_score\" in ecosense_response.json(), \"Missing carbon_score\"\n",
    "assert 2.0 <= float(ecosense_response.json()[\"carbon_score\"]) <= 10.0, \"Carbon score out of range\""
   ]
  }
 ],
 "metadata": {
  "kernelspec": {
   "display_name": "Python 3",
   "language": "python",
   "name": "python3"
  },
  "language_info": {
   "codemirror_mode": {
    "name": "ipython",
    "version": 3
   },
   "file_extension": ".py",
   "mimetype": "text/x-python",
   "name": "python",
   "nbconvert_exporter": "python",
   "pygments_lexer": "ipython3",
   "version": "3.9.10"
  }
 },
 "nbformat": 4,
 "nbformat_minor": 5
}
