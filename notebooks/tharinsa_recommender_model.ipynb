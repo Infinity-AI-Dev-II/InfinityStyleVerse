{
 "cells": [
  {
   "cell_type": "markdown",
   "id": "068455a8",
   "metadata": {},
   "source": [
    "Day 3"
   ]
  },
  {
   "cell_type": "code",
   "execution_count": 2,
   "id": "75995657",
   "metadata": {},
   "outputs": [
    {
     "name": "stdout",
     "output_type": "stream",
     "text": [
      "Defaulting to user installation because normal site-packages is not writeable\n",
      "Requirement already satisfied: scikit-learn in c:\\users\\acer\\appdata\\roaming\\python\\python310\\site-packages (1.2.2)\n",
      "Requirement already satisfied: pandas in c:\\users\\acer\\appdata\\roaming\\python\\python310\\site-packages (1.5.3)\n",
      "Requirement already satisfied: numpy in c:\\users\\acer\\appdata\\roaming\\python\\python310\\site-packages (1.26.4)\n",
      "Requirement already satisfied: threadpoolctl>=2.0.0 in c:\\users\\acer\\appdata\\roaming\\python\\python310\\site-packages (from scikit-learn) (3.6.0)\n",
      "Requirement already satisfied: joblib>=1.1.1 in c:\\users\\acer\\appdata\\roaming\\python\\python310\\site-packages (from scikit-learn) (1.4.2)\n",
      "Requirement already satisfied: scipy>=1.3.2 in c:\\users\\acer\\appdata\\roaming\\python\\python310\\site-packages (from scikit-learn) (1.15.2)\n",
      "Requirement already satisfied: python-dateutil>=2.8.1 in c:\\users\\acer\\appdata\\roaming\\python\\python310\\site-packages (from pandas) (2.9.0.post0)\n",
      "Requirement already satisfied: pytz>=2020.1 in c:\\users\\acer\\appdata\\roaming\\python\\python310\\site-packages (from pandas) (2025.1)\n",
      "Requirement already satisfied: six>=1.5 in c:\\users\\acer\\appdata\\roaming\\python\\python310\\site-packages (from python-dateutil>=2.8.1->pandas) (1.17.0)\n",
      "Note: you may need to restart the kernel to use updated packages.\n"
     ]
    },
    {
     "name": "stderr",
     "output_type": "stream",
     "text": [
      "\n",
      "[notice] A new release of pip is available: 23.0.1 -> 25.1.1\n",
      "[notice] To update, run: python.exe -m pip install --upgrade pip\n"
     ]
    }
   ],
   "source": [
    "pip install scikit-learn pandas numpy"
   ]
  },
  {
   "cell_type": "code",
   "execution_count": 1,
   "id": "94ccd84d",
   "metadata": {},
   "outputs": [],
   "source": [
    "from sklearn.feature_extraction.text import TfidfVectorizer\n",
    "from sklearn.metrics.pairwise import cosine_similarity\n",
    "import pandas as pd"
   ]
  },
  {
   "cell_type": "code",
   "execution_count": null,
   "id": "9c6edb4f",
   "metadata": {},
   "outputs": [],
   "source": [
    "# Loading the dataset (products.csv)\n",
    "df = pd.read_csv('C:\\\\Users\\\\acer\\\\Desktop\\\\Infinity AI Work\\\\InfinityStyleVerse\\\\data\\\\raw\\\\products.csv')"
   ]
  },
  {
   "cell_type": "code",
   "execution_count": 15,
   "id": "ea287805",
   "metadata": {},
   "outputs": [
    {
     "data": {
      "text/html": [
       "<div>\n",
       "<style scoped>\n",
       "    .dataframe tbody tr th:only-of-type {\n",
       "        vertical-align: middle;\n",
       "    }\n",
       "\n",
       "    .dataframe tbody tr th {\n",
       "        vertical-align: top;\n",
       "    }\n",
       "\n",
       "    .dataframe thead th {\n",
       "        text-align: right;\n",
       "    }\n",
       "</style>\n",
       "<table border=\"1\" class=\"dataframe\">\n",
       "  <thead>\n",
       "    <tr style=\"text-align: right;\">\n",
       "      <th></th>\n",
       "      <th>title</th>\n",
       "      <th>category</th>\n",
       "      <th>color</th>\n",
       "      <th>material</th>\n",
       "      <th>rating</th>\n",
       "      <th>description</th>\n",
       "    </tr>\n",
       "  </thead>\n",
       "  <tbody>\n",
       "    <tr>\n",
       "      <th>0</th>\n",
       "      <td>Slim Fit Blazer</td>\n",
       "      <td>Formal</td>\n",
       "      <td>Navy</td>\n",
       "      <td>Cotton</td>\n",
       "      <td>4.6</td>\n",
       "      <td>Stylish modern blazer for professionals.</td>\n",
       "    </tr>\n",
       "    <tr>\n",
       "      <th>1</th>\n",
       "      <td>Floral Midi Dress</td>\n",
       "      <td>Dress</td>\n",
       "      <td>Red</td>\n",
       "      <td>Polyester</td>\n",
       "      <td>4.3</td>\n",
       "      <td>Elegant floral dress perfect for summer outings.</td>\n",
       "    </tr>\n",
       "    <tr>\n",
       "      <th>2</th>\n",
       "      <td>Denim Jacket</td>\n",
       "      <td>Casual</td>\n",
       "      <td>Blue</td>\n",
       "      <td>Denim</td>\n",
       "      <td>4.7</td>\n",
       "      <td>Classic denim jacket with a relaxed fit.</td>\n",
       "    </tr>\n",
       "    <tr>\n",
       "      <th>3</th>\n",
       "      <td>Silk Scarf</td>\n",
       "      <td>Accessories</td>\n",
       "      <td>Green</td>\n",
       "      <td>Silk</td>\n",
       "      <td>4.2</td>\n",
       "      <td>Luxurious silk scarf to elevate any outfit.</td>\n",
       "    </tr>\n",
       "    <tr>\n",
       "      <th>4</th>\n",
       "      <td>Leather Ankle Boots</td>\n",
       "      <td>Footwear</td>\n",
       "      <td>Black</td>\n",
       "      <td>Leather</td>\n",
       "      <td>4.8</td>\n",
       "      <td>Sleek leather boots for a chic look.</td>\n",
       "    </tr>\n",
       "  </tbody>\n",
       "</table>\n",
       "</div>"
      ],
      "text/plain": [
       "                 title     category  color   material  rating  \\\n",
       "0      Slim Fit Blazer       Formal   Navy     Cotton     4.6   \n",
       "1    Floral Midi Dress        Dress    Red  Polyester     4.3   \n",
       "2         Denim Jacket       Casual   Blue      Denim     4.7   \n",
       "3           Silk Scarf  Accessories  Green       Silk     4.2   \n",
       "4  Leather Ankle Boots     Footwear  Black    Leather     4.8   \n",
       "\n",
       "                                        description  \n",
       "0          Stylish modern blazer for professionals.  \n",
       "1  Elegant floral dress perfect for summer outings.  \n",
       "2          Classic denim jacket with a relaxed fit.  \n",
       "3       Luxurious silk scarf to elevate any outfit.  \n",
       "4              Sleek leather boots for a chic look.  "
      ]
     },
     "execution_count": 15,
     "metadata": {},
     "output_type": "execute_result"
    }
   ],
   "source": [
    "df.head()"
   ]
  },
  {
   "cell_type": "code",
   "execution_count": 16,
   "id": "cb5e16ec",
   "metadata": {},
   "outputs": [],
   "source": [
    "descriptions = df['description'].values"
   ]
  },
  {
   "cell_type": "code",
   "execution_count": 17,
   "id": "d6580373",
   "metadata": {},
   "outputs": [],
   "source": [
    "# Creating the TfidfVectorizer \n",
    "tfidf = TfidfVectorizer()\n",
    "\n",
    "# Converting the descriptions into numerical features\n",
    "matrix = tfidf.fit_transform(descriptions)"
   ]
  },
  {
   "cell_type": "code",
   "execution_count": 18,
   "id": "6583a985",
   "metadata": {},
   "outputs": [],
   "source": [
    "# Calculating the cosine similarity matrix\n",
    "similarities = cosine_similarity(matrix)"
   ]
  },
  {
   "cell_type": "markdown",
   "id": "a20d1429",
   "metadata": {},
   "source": [
    "Day 4"
   ]
  },
  {
   "cell_type": "code",
   "execution_count": 20,
   "id": "463cca93",
   "metadata": {},
   "outputs": [],
   "source": [
    "# Function to get the top 3 most similar products for a given index\n",
    "def get_similar_products(index):\n",
    "    scores = list(enumerate(similarities[index]))\n",
    "    scores = sorted(scores, key=lambda x: x[1], reverse=True)\n",
    "    top_3_products = scores[1:4]\n",
    "\n",
    "    # Returns the title and the score for the top 3 products\n",
    "    return [(df['title'][i], score) for i, score in top_3_products]"
   ]
  },
  {
   "cell_type": "markdown",
   "id": "ebc949ad",
   "metadata": {},
   "source": [
    "Day 5"
   ]
  },
  {
   "cell_type": "code",
   "execution_count": 22,
   "id": "5eabe2fb",
   "metadata": {},
   "outputs": [
    {
     "name": "stdout",
     "output_type": "stream",
     "text": [
      "Products similar to Slim Fit Blazer:\n",
      "- Linen Blazer (Similarity: 0.26)\n",
      "- Suede Boots (Similarity: 0.18)\n",
      "- Suede Sneakers (Similarity: 0.18)\n"
     ]
    }
   ],
   "source": [
    "# Testing by giving a product index\n",
    "\n",
    "product_index = 0\n",
    "\n",
    "print(f\"Products similar to {df['title'][product_index]}:\")\n",
    "similar_products = get_similar_products(product_index)\n",
    "for title, score in similar_products:\n",
    "    print(f\"- {title} (Similarity: {score:.2f})\")"
   ]
  },
  {
   "cell_type": "code",
   "execution_count": 23,
   "id": "26646c56",
   "metadata": {},
   "outputs": [
    {
     "name": "stdout",
     "output_type": "stream",
     "text": [
      "Products similar to Leather Ankle Boots:\n",
      "- Suede Boots (Similarity: 0.62)\n",
      "- Leather Jacket (Similarity: 0.27)\n",
      "- Leather Gloves (Similarity: 0.18)\n"
     ]
    }
   ],
   "source": [
    "product_index = 4\n",
    "\n",
    "print(f\"Products similar to {df['title'][product_index]}:\")\n",
    "similar_products = get_similar_products(product_index)\n",
    "for title, score in similar_products:\n",
    "    print(f\"- {title} (Similarity: {score:.2f})\")"
   ]
  },
  {
   "cell_type": "code",
   "execution_count": 24,
   "id": "c325803e",
   "metadata": {},
   "outputs": [
    {
     "name": "stdout",
     "output_type": "stream",
     "text": [
      "Products similar to Knit Sweater:\n",
      "- Knit Beanie (Similarity: 0.47)\n",
      "- Knit Vest (Similarity: 0.38)\n",
      "- Knit Socks (Similarity: 0.35)\n"
     ]
    }
   ],
   "source": [
    "product_index = 10\n",
    "\n",
    "print(f\"Products similar to {df['title'][product_index]}:\")\n",
    "similar_products = get_similar_products(product_index)\n",
    "for title, score in similar_products:\n",
    "    print(f\"- {title} (Similarity: {score:.2f})\")"
   ]
  },
  {
   "cell_type": "code",
   "execution_count": 27,
   "id": "8e042175",
   "metadata": {},
   "outputs": [],
   "source": [
    "# Testing by giving a product title"
   ]
  },
  {
   "cell_type": "code",
   "execution_count": 28,
   "id": "b30867df",
   "metadata": {},
   "outputs": [],
   "source": [
    "# Function to get the index\n",
    "\n",
    "def get_product_index(title):\n",
    "    try:\n",
    "        return df.index[df['title'] == title].tolist()[0]\n",
    "    except IndexError:\n",
    "        return None  # Returns None if no title was found"
   ]
  },
  {
   "cell_type": "code",
   "execution_count": 33,
   "id": "afdf25da",
   "metadata": {},
   "outputs": [
    {
     "name": "stdout",
     "output_type": "stream",
     "text": [
      "Looking for recommendations for: Knit Sweater\n",
      "- Knit Beanie (Similarity: 0.47)\n",
      "- Knit Vest (Similarity: 0.38)\n",
      "- Knit Socks (Similarity: 0.35)\n"
     ]
    }
   ],
   "source": [
    "# User inputs\n",
    "user_title = input(\"Enter a product title: \")\n",
    "\n",
    "# Finding the index of the entered product\n",
    "index = get_product_index(user_title)\n",
    "\n",
    "if index is not None:\n",
    "    print(f\"Looking for recommendations for: {user_title}\")\n",
    "    similar_products = get_similar_products(index)\n",
    "    for title, score in similar_products:\n",
    "        print(f\"- {title} (Similarity: {score:.2f})\")\n",
    "else:\n",
    "    print(\"Product was not found. Please check the product title and try again.\")"
   ]
  }
 ],
 "metadata": {
  "kernelspec": {
   "display_name": "Python 3",
   "language": "python",
   "name": "python3"
  },
  "language_info": {
   "codemirror_mode": {
    "name": "ipython",
    "version": 3
   },
   "file_extension": ".py",
   "mimetype": "text/x-python",
   "name": "python",
   "nbconvert_exporter": "python",
   "pygments_lexer": "ipython3",
   "version": "3.10.11"
  }
 },
 "nbformat": 4,
 "nbformat_minor": 5
}
