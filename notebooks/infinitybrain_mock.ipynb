{
 "cells": [
  {
   "cell_type": "markdown",
   "id": "4d9c559a",
   "metadata": {},
   "source": [
    "Initial Setup"
   ]
  },
  {
   "cell_type": "code",
   "execution_count": 1,
   "id": "8628e6e2",
   "metadata": {},
   "outputs": [],
   "source": [
    "import numpy as np\n",
    "import pandas as pd\n",
    "import os"
   ]
  },
  {
   "cell_type": "code",
   "execution_count": 2,
   "id": "adc293e8",
   "metadata": {},
   "outputs": [
    {
     "name": "stdout",
     "output_type": "stream",
     "text": [
      "InfinityBrain mock setup complete\n"
     ]
    }
   ],
   "source": [
    "os.chdir(os.path.dirname(os.path.abspath(\"__file__\")))\n",
    "\n",
    "print(\"InfinityBrain mock setup complete\")"
   ]
  },
  {
   "cell_type": "markdown",
   "id": "cd992812",
   "metadata": {},
   "source": [
    "Dummy ML Model for VisionaryAI"
   ]
  },
  {
   "cell_type": "code",
   "execution_count": 3,
   "id": "6cda3cce",
   "metadata": {},
   "outputs": [],
   "source": [
    "def mock_visionaryai(image_input):\n",
    "    tags = [\"cotton\", \"blue\", \"casual\"]  # Example tags\n",
    "    score = np.random.uniform(0.7, 1.0)  # Random confidence between 0.7–1.0\n",
    "    return {\"tags\": tags, \"confidence_score\": score}"
   ]
  },
  {
   "cell_type": "code",
   "execution_count": 4,
   "id": "43aa6136",
   "metadata": {},
   "outputs": [
    {
     "name": "stdout",
     "output_type": "stream",
     "text": [
      "{'tags': ['cotton', 'blue', 'casual'], 'confidence_score': 0.8251376099884625}\n"
     ]
    }
   ],
   "source": [
    "result = mock_visionaryai(\"sample_image.jpg\")\n",
    "print(result)"
   ]
  },
  {
   "cell_type": "markdown",
   "id": "df518623",
   "metadata": {},
   "source": [
    "Dummy ML Model for Inference Logic"
   ]
  },
  {
   "cell_type": "code",
   "execution_count": null,
   "id": "7c48722e",
   "metadata": {},
   "outputs": [],
   "source": [
    "# The below function will takes user_action as input and will look it up in a dictionary (\"intent_map\"). If a match is found, \n",
    "# it will return a dictionary with the predicted next intent (what the user will want to do next) and return a fixed confidence score 0.85 for now."
   ]
  },
  {
   "cell_type": "code",
   "execution_count": 5,
   "id": "8165a099",
   "metadata": {},
   "outputs": [],
   "source": [
    "# Dummy function for intent prediction\n",
    "def mock_intentlogic(user_action):\n",
    "    intent_map = {\"viewed_dress\": \"buy_shoes\", \"added_to_cart\": \"buy_accessory\"} \n",
    "    prediction = intent_map.get(user_action, \"explore_more\")\n",
    "    return {\"predicted_intent\": prediction, \"confidence\": 0.85}"
   ]
  },
  {
   "cell_type": "code",
   "execution_count": 6,
   "id": "8196a5c6",
   "metadata": {},
   "outputs": [
    {
     "name": "stdout",
     "output_type": "stream",
     "text": [
      "{'predicted_intent': 'buy_shoes', 'confidence': 0.85}\n"
     ]
    }
   ],
   "source": [
    "# Testing function\n",
    "intent_result = mock_intentlogic(\"viewed_dress\")\n",
    "print(intent_result)"
   ]
  }
 ],
 "metadata": {
  "kernelspec": {
   "display_name": "Python 3",
   "language": "python",
   "name": "python3"
  },
  "language_info": {
   "codemirror_mode": {
    "name": "ipython",
    "version": 3
   },
   "file_extension": ".py",
   "mimetype": "text/x-python",
   "name": "python",
   "nbconvert_exporter": "python",
   "pygments_lexer": "ipython3",
   "version": "3.10.11"
  }
 },
 "nbformat": 4,
 "nbformat_minor": 5
}
