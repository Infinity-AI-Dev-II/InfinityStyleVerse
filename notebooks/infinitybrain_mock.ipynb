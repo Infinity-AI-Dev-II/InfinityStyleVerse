{
 "cells": [
  {
   "cell_type": "markdown",
   "id": "e426bad7",
   "metadata": {},
   "source": [
    "Day 1"
   ]
  },
  {
   "cell_type": "markdown",
   "id": "4d9c559a",
   "metadata": {},
   "source": [
    "Initial Setup"
   ]
  },
  {
   "cell_type": "code",
   "execution_count": 2,
   "id": "8628e6e2",
   "metadata": {},
   "outputs": [],
   "source": [
    "import numpy as np\n",
    "import pandas as pd\n",
    "import os"
   ]
  },
  {
   "cell_type": "code",
   "execution_count": 3,
   "id": "adc293e8",
   "metadata": {},
   "outputs": [
    {
     "name": "stdout",
     "output_type": "stream",
     "text": [
      "InfinityBrain mock setup complete\n"
     ]
    }
   ],
   "source": [
    "os.chdir(os.path.dirname(os.path.abspath(\"__file__\")))\n",
    "\n",
    "print(\"InfinityBrain mock setup complete\")"
   ]
  },
  {
   "cell_type": "markdown",
   "id": "cd992812",
   "metadata": {},
   "source": [
    "Dummy ML Model for VisionaryAI"
   ]
  },
  {
   "cell_type": "code",
   "execution_count": 4,
   "id": "6cda3cce",
   "metadata": {},
   "outputs": [],
   "source": [
    "def mock_visionaryai(image_input):\n",
    "    tags = [\"cotton\", \"blue\", \"casual\"]  # Example tags\n",
    "    score = np.random.uniform(0.7, 1.0)  # Random confidence between 0.7–1.0\n",
    "    return {\"tags\": tags, \"confidence_score\": score}"
   ]
  },
  {
   "cell_type": "code",
   "execution_count": 5,
   "id": "43aa6136",
   "metadata": {},
   "outputs": [
    {
     "name": "stdout",
     "output_type": "stream",
     "text": [
      "{'tags': ['cotton', 'blue', 'casual'], 'confidence_score': 0.7421903212709233}\n"
     ]
    }
   ],
   "source": [
    "result = mock_visionaryai(\"sample_image.jpg\")\n",
    "print(result)"
   ]
  },
  {
   "cell_type": "markdown",
   "id": "df518623",
   "metadata": {},
   "source": [
    "Dummy ML Model for Inference Logic"
   ]
  },
  {
   "cell_type": "code",
   "execution_count": 6,
   "id": "7c48722e",
   "metadata": {},
   "outputs": [],
   "source": [
    "# The below function will takes user_action as input and will look it up in a dictionary (\"intent_map\"). If a match is found, \n",
    "# it will return a dictionary with the predicted next intent (what the user will want to do next) and return a fixed confidence score 0.85 for now."
   ]
  },
  {
   "cell_type": "code",
   "execution_count": 7,
   "id": "8165a099",
   "metadata": {},
   "outputs": [],
   "source": [
    "# Dummy function for intent prediction\n",
    "def mock_intentlogic(user_action):\n",
    "    intent_map = {\"viewed_dress\": \"buy_shoes\", \"added_to_cart\": \"buy_accessory\"} \n",
    "    prediction = intent_map.get(user_action, \"explore_more\")\n",
    "    return {\"predicted_intent\": prediction, \"confidence\": 0.85}"
   ]
  },
  {
   "cell_type": "code",
   "execution_count": 8,
   "id": "8196a5c6",
   "metadata": {},
   "outputs": [
    {
     "name": "stdout",
     "output_type": "stream",
     "text": [
      "{'predicted_intent': 'buy_shoes', 'confidence': 0.85}\n"
     ]
    }
   ],
   "source": [
    "# Testing function\n",
    "intent_result = mock_intentlogic(\"viewed_dress\")\n",
    "print(intent_result)"
   ]
  },
  {
   "cell_type": "markdown",
   "id": "4ddfdca9",
   "metadata": {},
   "source": [
    "Day 2"
   ]
  },
  {
   "cell_type": "code",
   "execution_count": 9,
   "id": "e5e6a739",
   "metadata": {},
   "outputs": [],
   "source": [
    "import random\n",
    "\n",
    "def mock_infinitybrain_predict(prompt):    \n",
    "    trends = [\"High demand for blue dresses\", \"Rise in sustainable jackets\", \"Popular neon tops\"]\n",
    "    confidence = round(random.uniform(0.8, 0.95), 2)  # Random confidence between 0.8 and 0.95\n",
    "    return {\"trend_forecast\": random.choice(trends), \"confidence\": confidence}"
   ]
  },
  {
   "cell_type": "code",
   "execution_count": 10,
   "id": "367faa00",
   "metadata": {},
   "outputs": [
    {
     "name": "stdout",
     "output_type": "stream",
     "text": [
      "{'trend_forecast': 'Rise in sustainable jackets', 'confidence': 0.87}\n"
     ]
    }
   ],
   "source": [
    "test_prompt = \"Predict trend for summer\"\n",
    "predict_result = mock_infinitybrain_predict(test_prompt)\n",
    "print(predict_result)"
   ]
  },
  {
   "cell_type": "markdown",
   "id": "67ab732e",
   "metadata": {},
   "source": [
    "VisionaryAI & StyleSense Placeholder Endpoints"
   ]
  },
  {
   "cell_type": "code",
   "execution_count": 11,
   "id": "2e1e2b10",
   "metadata": {},
   "outputs": [
    {
     "name": "stdout",
     "output_type": "stream",
     "text": [
      "VisionaryAI Analysis: {'material': 'cotton', 'color': 'black', 'confidence': 0.78}\n"
     ]
    }
   ],
   "source": [
    "#Placeholder for VisionaryAI \n",
    "def mock_visionaryai_analyze(image_input):\n",
    "    materials = [\"cotton\", \"silk\", \"denim\"]\n",
    "    colors = [\"blue\", \"red\", \"black\"]\n",
    "    return {\n",
    "        \"material\": random.choice(materials),\n",
    "        \"color\": random.choice(colors),\n",
    "        \"confidence\": round(random.uniform(0.75, 0.95), 2)\n",
    "    }\n",
    "\n",
    "# Test\n",
    "visionary_result = mock_visionaryai_analyze(\"sample_image.jpg\")\n",
    "print(\"VisionaryAI Analysis:\", visionary_result)"
   ]
  },
  {
   "cell_type": "code",
   "execution_count": 12,
   "id": "ac4645a6",
   "metadata": {},
   "outputs": [
    {
     "name": "stdout",
     "output_type": "stream",
     "text": [
      "StyleSense Suggestion: {'suggestion': 'Pair with white sneakers', 'confidence': 0.85}\n"
     ]
    }
   ],
   "source": [
    "#Placeholder for StyleSense\n",
    "def mock_stylesense_suggest(user_preferences):\n",
    "    suggestions = [\n",
    "        \"Pair with white sneakers\",\n",
    "        \"Try a leather jacket\",\n",
    "        \"Accessorize with a silver necklace\"\n",
    "    ]\n",
    "    return {\n",
    "        \"suggestion\": random.choice(suggestions),\n",
    "        \"confidence\": 0.85  # Fixed for simplicity\n",
    "    }\n",
    "\n",
    "# Test\n",
    "stylesense_result = mock_stylesense_suggest({\"preference\": \"casual\"})\n",
    "print(\"StyleSense Suggestion:\", stylesense_result)"
   ]
  },
  {
   "cell_type": "markdown",
   "id": "e1aa7f31",
   "metadata": {},
   "source": [
    "Day 3"
   ]
  },
  {
   "cell_type": "code",
   "execution_count": 13,
   "id": "7ef4ad1f",
   "metadata": {},
   "outputs": [],
   "source": [
    "# PersonaMesh \n",
    "# Setting up mock embeddings for test users"
   ]
  },
  {
   "cell_type": "code",
   "execution_count": 14,
   "id": "b7700cf3",
   "metadata": {},
   "outputs": [],
   "source": [
    "# Mock Embeddings:\n",
    "# Contains a dictionary with user_id as key and a list of 3 numbers (formal, color, style) as value.\n",
    "# Test Users: user1 (casual), user2 (trendy), user3 (neutral).\n",
    "# This is a placeholder for PersonaMesh to simulate user preferences."
   ]
  },
  {
   "cell_type": "code",
   "execution_count": 15,
   "id": "6f366ac7",
   "metadata": {},
   "outputs": [
    {
     "name": "stdout",
     "output_type": "stream",
     "text": [
      "Mock embeddings set up: {'user1': [0.1, 0.9, 0.3], 'user2': [0.8, 0.2, 0.7], 'user3': [0.5, 0.5, 0.5]}\n"
     ]
    }
   ],
   "source": [
    "mock_embeddings = {\n",
    "    \"user1\": [0.1, 0.9, 0.3],  # Casual shopper (low formal, high color, medium style)\n",
    "    \"user2\": [0.8, 0.2, 0.7],  # Trendy designer (high formal, low color, high style)\n",
    "    \"user3\": [0.5, 0.5, 0.5]   # Neutral user (balanced preferences)\n",
    "}\n",
    "print(\"Mock embeddings set up:\", mock_embeddings)"
   ]
  },
  {
   "cell_type": "code",
   "execution_count": 16,
   "id": "e6ed4ac3",
   "metadata": {},
   "outputs": [
    {
     "name": "stdout",
     "output_type": "stream",
     "text": [
      "User1 recommendation: {'recommendation': 'Casual blue t-shirt', 'confidence': 0.9}\n",
      "User2 recommendation: {'recommendation': 'Trendy leather jacket', 'confidence': 0.85}\n",
      "User3 recommendation: {'recommendation': 'Versatile black jeans', 'confidence': 0.8}\n",
      "Unknown user recommendation: {'recommendation': 'Explore new styles', 'confidence': 0.7}\n"
     ]
    }
   ],
   "source": [
    "#Mock Recommendation Function for Login Context\n",
    "def mock_recommendation(user_id):\n",
    "    recommendations = {\n",
    "        \"User1\": {\"recommendation\": \"Casual blue t-shirt\", \"confidence\": 0.9},\n",
    "        \"User2\": {\"recommendation\": \"Trendy leather jacket\", \"confidence\": 0.85},\n",
    "        \"User3\": {\"recommendation\": \"Versatile black jeans\", \"confidence\": 0.8}\n",
    "    }\n",
    "    return recommendations.get(user_id, {\"recommendation\": \"Explore new styles\", \"confidence\": 0.7})\n",
    "\n",
    "# Test cases\n",
    "print(\"User1 recommendation:\", mock_recommendation(\"User1\"))\n",
    "print(\"User2 recommendation:\", mock_recommendation(\"User2\"))\n",
    "print(\"User3 recommendation:\", mock_recommendation(\"User3\"))\n",
    "print(\"Unknown user recommendation:\", mock_recommendation(\"UserX\"))\n"
   ]
  },
  {
   "cell_type": "code",
   "execution_count": 17,
   "id": "2259274b",
   "metadata": {},
   "outputs": [],
   "source": [
    "#Mock PersonaMesh Recommendation:\n",
    "#Input: `user_id` from login context (e.g., JWT token).\n",
    "#Output: Dictionary with recommendation and confidence score.\n",
    "#Logic: Maps `user_id` to preset recommendations based on mock embeddings.\n",
    "#For Backend: Call this during `/auth/login` to test personalization.\n"
   ]
  },
  {
   "cell_type": "markdown",
   "id": "7ffbaa07",
   "metadata": {},
   "source": [
    "Day 4"
   ]
  },
  {
   "cell_type": "code",
   "execution_count": 18,
   "id": "6e355455",
   "metadata": {},
   "outputs": [],
   "source": [
    "# Mock InfinityBrain Orchestration Logs\n",
    "# Generating and storing fake API response logs in a CSV for testing to support the Admin dashboard with sample AI data."
   ]
  },
  {
   "cell_type": "code",
   "execution_count": 19,
   "id": "c8f78d17",
   "metadata": {},
   "outputs": [],
   "source": [
    "from datetime import datetime\n",
    "import csv\n",
    "import os\n",
    "import random"
   ]
  },
  {
   "cell_type": "code",
   "execution_count": 20,
   "id": "2dcd14a5",
   "metadata": {},
   "outputs": [],
   "source": [
    "# Mock prediction function\n",
    "def mock_infinitybrain_predict(prompt):\n",
    "    trends = [\"High demand for blue dresses\", \"Rise in sustainable jackets\", \"Popular neon tops\"]\n",
    "    confidence = round(random.uniform(0.8, 0.95), 2)\n",
    "    return {\"trend_forecast\": random.choice(trends), \"confidence\": confidence}\n",
    "\n",
    "# Mock recommendation function\n",
    "def mock_personamesh_recommend(user_id):\n",
    "    if user_id == \"user1\":\n",
    "        return {\"recommendation\": \"Casual blue t-shirt\", \"confidence\": 0.9}\n",
    "    elif user_id == \"user2\":\n",
    "        return {\"recommendation\": \"Trendy leather jacket\", \"confidence\": 0.85}\n",
    "    else:\n",
    "        return {\"recommendation\": \"Explore new styles\", \"confidence\": 0.7}"
   ]
  },
  {
   "cell_type": "code",
   "execution_count": 21,
   "id": "b4c696b3",
   "metadata": {},
   "outputs": [
    {
     "name": "stdout",
     "output_type": "stream",
     "text": [
      "Logs saved to: data\\logs\\infinitybrain_logs.csv\n"
     ]
    }
   ],
   "source": [
    "# Generate mock orchestration logs\n",
    "log_data = []\n",
    "for user_id in [\"user1\", \"user2\", \"user3\"]:\n",
    "    response = mock_infinitybrain_predict(\"test\") if user_id == \"user1\" else mock_personamesh_recommend(user_id)\n",
    "    log_entry = {\n",
    "        \"user_id\": user_id,\n",
    "        \"timestamp\": datetime.now().strftime(\"%Y-%m-%d %H:%M:%S\"),\n",
    "        \"api_call\": \"predict\" if user_id == \"user1\" else \"recommend\",\n",
    "        \"response_type\": \"trend_forecast\" if user_id == \"user1\" else \"recommendation\",\n",
    "        \"response_value\": response.get(\"trend_forecast\", response.get(\"recommendation\")),\n",
    "        \"confidence\": response.get(\"confidence\")\n",
    "    }\n",
    "    log_data.append(log_entry)\n",
    "\n",
    "# Use relative path from project root\n",
    "log_dir = os.path.join(\"data\", \"logs\")\n",
    "if not os.path.exists(log_dir):\n",
    "    os.makedirs(log_dir, exist_ok=True)  # Added exist_ok=True to avoid PermissionError if dir exists\n",
    "log_file = os.path.join(log_dir, 'infinitybrain_logs.csv')\n",
    "\n",
    "fieldnames = [\"user_id\", \"timestamp\", \"api_call\", \"response_type\", \"response_value\", \"confidence\"]\n",
    "with open(log_file, 'w', newline='') as csvfile:\n",
    "    writer = csv.DictWriter(csvfile, fieldnames=fieldnames)\n",
    "    writer.writeheader()\n",
    "    writer.writerows(log_data)\n",
    "\n",
    "print(f\"Logs saved to: {log_file}\")"
   ]
  },
  {
   "cell_type": "code",
   "execution_count": 22,
   "id": "8360cb7b",
   "metadata": {},
   "outputs": [
    {
     "name": "stdout",
     "output_type": "stream",
     "text": [
      "{'user_id': 'user1', 'timestamp': '2025-08-19 09:33:41', 'api_call': 'predict', 'response_type': 'trend_forecast', 'response_value': 'Popular neon tops', 'confidence': 0.9}\n",
      "{'user_id': 'user2', 'timestamp': '2025-08-19 09:33:41', 'api_call': 'recommend', 'response_type': 'recommendation', 'response_value': 'Trendy leather jacket', 'confidence': 0.85}\n",
      "{'user_id': 'user3', 'timestamp': '2025-08-19 09:33:41', 'api_call': 'recommend', 'response_type': 'recommendation', 'response_value': 'Explore new styles', 'confidence': 0.7}\n"
     ]
    }
   ],
   "source": [
    "# Displaying logs\n",
    "for log in log_data:\n",
    "    print(log)"
   ]
  },
  {
   "cell_type": "markdown",
   "id": "62d3852d",
   "metadata": {},
   "source": [
    "Day 5"
   ]
  },
  {
   "cell_type": "code",
   "execution_count": 23,
   "id": "9a5d04ec",
   "metadata": {},
   "outputs": [],
   "source": [
    "# Mock IntentLogic inference pipeline\n",
    "# Simulating IntentLogic to return mock intent scores"
   ]
  },
  {
   "cell_type": "code",
   "execution_count": 24,
   "id": "02040c02",
   "metadata": {},
   "outputs": [],
   "source": [
    "import random"
   ]
  },
  {
   "cell_type": "code",
   "execution_count": 25,
   "id": "500ed284",
   "metadata": {},
   "outputs": [],
   "source": [
    "# Dummy function returning mock intent scores\n",
    "\n",
    "def mock_intentlogic(user_action):\n",
    "    intent_scores = {\n",
    "        \"buy_shoes\": round(random.uniform(0.7, 0.9), 2),\n",
    "        \"buy_accessory\": round(random.uniform(0.6, 0.8), 2),\n",
    "        \"explore_more\": round(random.uniform(0.5, 0.7), 2)\n",
    "    }\n",
    "    return {\"user_action\": user_action, \"intent_scores\": intent_scores}"
   ]
  },
  {
   "cell_type": "code",
   "execution_count": 26,
   "id": "b9b591c2",
   "metadata": {},
   "outputs": [
    {
     "name": "stdout",
     "output_type": "stream",
     "text": [
      "Mock Intent Scores for viewed_dress: {'user_action': 'viewed_dress', 'intent_scores': {'buy_shoes': 0.75, 'buy_accessory': 0.67, 'explore_more': 0.64}}\n"
     ]
    }
   ],
   "source": [
    "# Testing\n",
    "test_action = \"viewed_dress\"\n",
    "result = mock_intentlogic(test_action)\n",
    "print(f\"Mock Intent Scores for {test_action}: {result}\")"
   ]
  },
  {
   "cell_type": "code",
   "execution_count": 27,
   "id": "e241e472",
   "metadata": {},
   "outputs": [],
   "source": [
    "# Dummy function to simulate VisionaryAI image analysis\n",
    "def mock_visionaryai(image_input):\n",
    "    sample_urls = [\n",
    "        \"https://example.com/images/dress1.jpg\",\n",
    "        \"https://example.com/images/dress2.jpg\",\n",
    "        \"https://example.com/images/dress3.jpg\"\n",
    "    ]\n",
    "    return {\"image_urls\": sample_urls, \"confidence\": round(random.uniform(0.8, 0.95), 2)}"
   ]
  },
  {
   "cell_type": "code",
   "execution_count": 28,
   "id": "3f7e341f",
   "metadata": {},
   "outputs": [
    {
     "name": "stdout",
     "output_type": "stream",
     "text": [
      "VisionaryAI mock result for dress.jpg: {'image_urls': ['https://example.com/images/dress1.jpg', 'https://example.com/images/dress2.jpg', 'https://example.com/images/dress3.jpg'], 'confidence': 0.86}\n"
     ]
    }
   ],
   "source": [
    "# Test the function\n",
    "test_image = \"dress.jpg\"\n",
    "result = mock_visionaryai(test_image)\n",
    "print(f\"VisionaryAI mock result for {test_image}: {result}\")"
   ]
  },
  {
   "cell_type": "code",
   "execution_count": 29,
   "id": "25238a56",
   "metadata": {},
   "outputs": [],
   "source": [
    "#Mock VisionaryAI:\n",
    "#- Input: image_input (e.g., image ID or description).\n",
    "#- Output: Dictionary with image_urls (list of sample URLs) and confidence score.\n",
    "#- Purpose: Placeholder for VisionaryAI image analysis in orchestrator.py."
   ]
  },
  {
   "cell_type": "markdown",
   "id": "32d26f27",
   "metadata": {},
   "source": [
    "Day 6"
   ]
  },
  {
   "cell_type": "code",
   "execution_count": 30,
   "id": "e1cc0d89",
   "metadata": {},
   "outputs": [],
   "source": [
    "# Manually testing the InfinityBrain AI orchestration endpoints with mock data"
   ]
  },
  {
   "cell_type": "code",
   "execution_count": 31,
   "id": "2df6779c",
   "metadata": {},
   "outputs": [],
   "source": [
    "import requests"
   ]
  },
  {
   "cell_type": "code",
   "execution_count": 32,
   "id": "84d9d29c",
   "metadata": {},
   "outputs": [],
   "source": [
    "# Testing the endpoints in infinitybrain_mock.py and in intent_logic.py"
   ]
  },
  {
   "cell_type": "code",
   "execution_count": 33,
   "id": "5f97feef",
   "metadata": {},
   "outputs": [
    {
     "name": "stdout",
     "output_type": "stream",
     "text": [
      "Predicted Response: {'confidence': 0.9, 'trend_forecast': 'High demand for blue dresses'}\n"
     ]
    }
   ],
   "source": [
    "# Testing /api/infinitybrain/predict in infinitybrain_mock.py\n",
    "\n",
    "predict_url = \"http://localhost:5000/api/infinitybrain/predict\"\n",
    "predict_response = requests.post(predict_url, json={\"prompt\": \"Predict the trend for the new year\"})\n",
    "print(\"Predicted Response:\", predict_response.json())\n",
    "assert predict_response.status_code == 200, \"Predict endpoint failed\"\n",
    "assert \"trend_forecast\" in predict_response.json(), \"Missing trend_forecast\"\n",
    "assert 0.8 <= float(predict_response.json()[\"confidence\"]) <= 0.95, \"Confidence is out of range\""
   ]
  },
  {
   "cell_type": "code",
   "execution_count": 34,
   "id": "e427178f",
   "metadata": {},
   "outputs": [
    {
     "name": "stdout",
     "output_type": "stream",
     "text": [
      "Recommended Response: {'confidence': 0.85, 'recommendation': 'Trendy leather jacket'}\n"
     ]
    }
   ],
   "source": [
    "# Testing /api/personamesh/recommend in infinitybrain_mock.py\n",
    "\n",
    "recommend_url = \"http://localhost:5000/api/personamesh/recommend\"\n",
    "recommend_response = requests.post(recommend_url, json={\"user_id\": \"user2\"})\n",
    "print(\"Recommended Response:\", recommend_response.json())\n",
    "assert recommend_response.status_code == 200, \"Recommend endpoint failed\"\n",
    "assert \"recommendation\" in recommend_response.json(), \"Missing recommendation\"\n",
    "assert 0.85 <= float(recommend_response.json()[\"confidence\"]) <= 0.9, \"Confidence is out of range for user1\""
   ]
  },
  {
   "cell_type": "code",
   "execution_count": 35,
   "id": "d190fcf9",
   "metadata": {},
   "outputs": [
    {
     "name": "stdout",
     "output_type": "stream",
     "text": [
      "IntentLogic Response: {'intent_scores': {'buy_accessory': 0.62, 'buy_shoes': 0.78, 'explore_more': 0.67}, 'user_action': 'viewed_socks'}\n"
     ]
    }
   ],
   "source": [
    "# Testing /api/intentlogic in intent_logic.py\n",
    "\n",
    "intent_url = \"http://localhost:5001/api/intentlogic\"\n",
    "intent_response = requests.post(intent_url, json={\"user_action\": \"viewed_socks\"})\n",
    "print(\"IntentLogic Response:\", intent_response.json())\n",
    "assert intent_response.status_code == 200, \"IntentLogic endpoint failed\"\n",
    "assert \"intent_scores\" in intent_response.json(), \"Missing intent_scores\"\n",
    "intent_scores = intent_response.json()[\"intent_scores\"]\n",
    "assert all(0.5 <= float(v) <= 0.9 for v in intent_scores.values()), \"Intent scores is out of range\""
   ]
  },
  {
   "cell_type": "markdown",
   "id": "b7400a53",
   "metadata": {},
   "source": [
    "Day 7"
   ]
  },
  {
   "cell_type": "code",
   "execution_count": 36,
   "id": "2b3780a0",
   "metadata": {},
   "outputs": [],
   "source": [
    "# PersonaMesh test embeddings linked to dummy users"
   ]
  },
  {
   "cell_type": "code",
   "execution_count": 37,
   "id": "2d441171",
   "metadata": {},
   "outputs": [],
   "source": [
    "import random\n",
    "import numpy as np"
   ]
  },
  {
   "cell_type": "code",
   "execution_count": 38,
   "id": "7065aded",
   "metadata": {},
   "outputs": [
    {
     "name": "stdout",
     "output_type": "stream",
     "text": [
      "Embedding for user1: [0.7283273866520252, 0.5278266275594954, 0.8913101804242954, 0.3365687641979842, 0.36170054740606994]... (10 dimensions)\n",
      "Embedding for user2: [0.9130502181348326, 0.4335691704474529, 0.13637578350788115, 0.5469294938515075, 0.7905790065282743]... (10 dimensions)\n",
      "Embedding for admin1: [1.1937378615717202, 0.8074592426371574, 0.784679012859023, 0.7480214545304245, 1.0603800354390345]... (10 dimensions)\n",
      "Embedding for exec1: [0.9174072153522562, 0.1401916069078718, 0.9671636475396755, 0.9651049273980267, 0.5986467015022088]... (10 dimensions)\n"
     ]
    }
   ],
   "source": [
    "# Generating mock embeddings\n",
    "def generate_mock_embedding(user_id, role):\n",
    "    \n",
    "    base_vector = np.random.rand(10) # 10-dimensional vector with random values between 0 and 1\n",
    "    if role == \"Admin\":\n",
    "        base_vector += np.random.rand(10) * 0.3  # Broader preferences\n",
    "    elif role == \"Executive\":\n",
    "        base_vector += np.random.rand(10) * 0.1  # Narrower preferences\n",
    "    return base_vector.tolist()  # For JSON compatibility\n",
    "\n",
    "# Dummy user data\n",
    "dummy_users = [\n",
    "    {\"user_id\": \"user1\", \"role\": \"User\"},\n",
    "    {\"user_id\": \"user2\", \"role\": \"User\"},\n",
    "    {\"user_id\": \"admin1\", \"role\": \"Admin\"},\n",
    "    {\"user_id\": \"exec1\", \"role\": \"Executive\"}\n",
    "]\n",
    "\n",
    "# Generating embeddings for each user\n",
    "user_embeddings = {user[\"user_id\"]: generate_mock_embedding(user[\"user_id\"], user[\"role\"]) for user in dummy_users}\n",
    "\n",
    "# Displaying embeddings\n",
    "for user_id, embedding in user_embeddings.items():\n",
    "    print(f\"Embedding for {user_id}: {embedding[:5]}... (10 dimensions)\")"
   ]
  },
  {
   "cell_type": "code",
   "execution_count": 39,
   "id": "d97f4f78",
   "metadata": {},
   "outputs": [
    {
     "name": "stdout",
     "output_type": "stream",
     "text": [
      "Recommendation for user1: {'recommendation': 'Casual blue t-shirt', 'confidence': 0.91}\n",
      "Recommendation for user2: {'recommendation': 'Trendy leather jacket', 'confidence': 0.86}\n",
      "Recommendation for admin1: {'recommendation': 'Premium suit', 'confidence': 0.95}\n",
      "Recommendation for exec1: {'recommendation': 'Elegant dress', 'confidence': 0.9}\n"
     ]
    }
   ],
   "source": [
    "def mock_personamesh_recommend_with_embedding(user_id):\n",
    "    \n",
    "    embedding = user_embeddings.get(user_id, generate_mock_embedding(user_id, \"User\"))  # Getting the embedding for the user\n",
    "    \n",
    "    base_recommendation = {\n",
    "        \"user1\": {\"recommendation\": \"Casual blue t-shirt\", \"confidence\": 0.9},\n",
    "        \"user2\": {\"recommendation\": \"Trendy leather jacket\", \"confidence\": 0.85},\n",
    "        \"admin1\": {\"recommendation\": \"Premium suit\", \"confidence\": 0.95},\n",
    "        \"exec1\": {\"recommendation\": \"Elegant dress\", \"confidence\": 0.88}\n",
    "    }.get(user_id, {\"recommendation\": \"Explore new styles\", \"confidence\": 0.7})\n",
    "\n",
    "    # Adjusting confidence slightly based on embedding sum\n",
    "\n",
    "    confidence_adjust = sum(embedding) / 10  # Average embedding value\n",
    "    adjusted_confidence = min(0.95, max(0.7, base_recommendation[\"confidence\"] + (confidence_adjust - 0.5) * 0.1))\n",
    "    base_recommendation[\"confidence\"] = round(adjusted_confidence, 2)\n",
    "    return base_recommendation\n",
    "\n",
    "# Testing the function for all users\n",
    "for user_id in user_embeddings.keys():\n",
    "    result = mock_personamesh_recommend_with_embedding(user_id)\n",
    "    print(f\"Recommendation for {user_id}: {result}\")"
   ]
  },
  {
   "cell_type": "markdown",
   "id": "2078899c",
   "metadata": {},
   "source": [
    "Day 8"
   ]
  },
  {
   "cell_type": "code",
   "execution_count": 40,
   "id": "f08d47bd",
   "metadata": {},
   "outputs": [],
   "source": [
    "# Day 8: Mock EcoSense API Testing\n",
    "# - Task: Test /api/ecosense endpoint with mock eco-scores.\n",
    "# - Purpose: Validate EcoSense integration with InfinityBrain."
   ]
  },
  {
   "cell_type": "code",
   "execution_count": 41,
   "id": "4fb348f2",
   "metadata": {},
   "outputs": [
    {
     "name": "stdout",
     "output_type": "stream",
     "text": [
      "EcoSense Response: {'carbon_score': 4.2, 'product_id': 'dress1', 'recyclability': 0.72, 'water_usage': 190.3}\n"
     ]
    }
   ],
   "source": [
    "# Test /api/ecosense\n",
    "ecosense_url = \"http://localhost:5000/api/ecosense\"\n",
    "ecosense_response = requests.post(ecosense_url, json={\"product_id\": \"dress1\"})\n",
    "print(\"EcoSense Response:\", ecosense_response.json())\n",
    "assert ecosense_response.status_code == 200, \"EcoSense endpoint failed\"\n",
    "assert \"carbon_score\" in ecosense_response.json(), \"Missing carbon_score\"\n",
    "assert 2.0 <= float(ecosense_response.json()[\"carbon_score\"]) <= 10.0, \"Carbon score out of range\""
   ]
  },
  {
   "cell_type": "code",
   "execution_count": 42,
   "id": "581a8d89",
   "metadata": {},
   "outputs": [],
   "source": [
    "# Day 9: InfinityBrain Orchestration Performance Testing (Mock)\n",
    "# - Task: Test performance of orchestration endpoints with mock data.\n",
    "# - Purpose: Validate API Gateway and routing under load."
   ]
  },
  {
   "cell_type": "code",
   "execution_count": 44,
   "id": "2cfa7867",
   "metadata": {},
   "outputs": [],
   "source": [
    "import time\n",
    "from concurrent.futures import ThreadPoolExecutor\n",
    "\n",
    "# Define endpoints\n",
    "endpoints = [\n",
    "    (\"http://localhost:5000/api/infinitybrain/predict\", {\"prompt\": \"Predict trend for winter\"}),\n",
    "    (\"http://localhost:5000/api/personamesh/recommend\", {\"user_id\": \"user1\"}),\n",
    "    (\"http://localhost:5001/api/intentlogic\", {\"user_action\": \"viewed_dress\"}),\n",
    "    (\"http://localhost:5000/api/ecosense\", {\"product_id\": \"dress1\"})\n",
    "]\n",
    "\n",
    "# Function to send a single request\n",
    "def test_endpoint(url, payload):\n",
    "    start_time = time.time()\n",
    "    response = requests.post(url, json=payload)\n",
    "    end_time = time.time()\n",
    "    return {\n",
    "        \"url\": url,\n",
    "        \"status_code\": response.status_code,\n",
    "        \"response\": response.json(),\n",
    "        \"time_taken\": round(end_time - start_time, 3)\n",
    "    }\n",
    "\n",
    "# Run 20 concurrent requests per endpoint\n",
    "results = []\n",
    "with ThreadPoolExecutor(max_workers=20) as executor:\n",
    "    for endpoint, payload in endpoints:\n",
    "        futures = [executor.submit(test_endpoint, endpoint, payload) for _ in range(20)]\n",
    "        results.extend(future.result() for future in futures)\n"
   ]
  },
  {
   "cell_type": "code",
   "execution_count": 45,
   "id": "4a7a4cae",
   "metadata": {},
   "outputs": [
    {
     "name": "stdout",
     "output_type": "stream",
     "text": [
      "Endpoint: http://localhost:5000/api/infinitybrain/predict, Status: 200, Time: 2.037s, Response: {'confidence': 0.88, 'trend_forecast': 'Rise in sustainable jackets'}\n",
      "Endpoint: http://localhost:5000/api/infinitybrain/predict, Status: 200, Time: 2.034s, Response: {'confidence': 0.95, 'trend_forecast': 'High demand for blue dresses'}\n",
      "Endpoint: http://localhost:5000/api/infinitybrain/predict, Status: 200, Time: 2.063s, Response: {'confidence': 0.86, 'trend_forecast': 'Popular neon tops'}\n",
      "Endpoint: http://localhost:5000/api/infinitybrain/predict, Status: 200, Time: 2.051s, Response: {'confidence': 0.8, 'trend_forecast': 'High demand for blue dresses'}\n",
      "Endpoint: http://localhost:5000/api/infinitybrain/predict, Status: 200, Time: 2.054s, Response: {'confidence': 0.87, 'trend_forecast': 'Rise in sustainable jackets'}\n",
      "Endpoint: http://localhost:5000/api/infinitybrain/predict, Status: 200, Time: 2.039s, Response: {'confidence': 0.91, 'trend_forecast': 'Popular neon tops'}\n",
      "Endpoint: http://localhost:5000/api/infinitybrain/predict, Status: 200, Time: 2.048s, Response: {'confidence': 0.89, 'trend_forecast': 'High demand for blue dresses'}\n",
      "Endpoint: http://localhost:5000/api/infinitybrain/predict, Status: 200, Time: 2.028s, Response: {'confidence': 0.83, 'trend_forecast': 'Rise in sustainable jackets'}\n",
      "Endpoint: http://localhost:5000/api/infinitybrain/predict, Status: 200, Time: 2.052s, Response: {'confidence': 0.87, 'trend_forecast': 'Rise in sustainable jackets'}\n",
      "Endpoint: http://localhost:5000/api/infinitybrain/predict, Status: 200, Time: 2.06s, Response: {'confidence': 0.9, 'trend_forecast': 'High demand for blue dresses'}\n",
      "Endpoint: http://localhost:5000/api/infinitybrain/predict, Status: 200, Time: 2.047s, Response: {'confidence': 0.92, 'trend_forecast': 'Rise in sustainable jackets'}\n",
      "Endpoint: http://localhost:5000/api/infinitybrain/predict, Status: 200, Time: 2.046s, Response: {'confidence': 0.86, 'trend_forecast': 'Rise in sustainable jackets'}\n",
      "Endpoint: http://localhost:5000/api/infinitybrain/predict, Status: 200, Time: 2.047s, Response: {'confidence': 0.82, 'trend_forecast': 'Popular neon tops'}\n",
      "Endpoint: http://localhost:5000/api/infinitybrain/predict, Status: 200, Time: 2.052s, Response: {'confidence': 0.95, 'trend_forecast': 'Popular neon tops'}\n",
      "Endpoint: http://localhost:5000/api/infinitybrain/predict, Status: 200, Time: 2.064s, Response: {'confidence': 0.88, 'trend_forecast': 'Rise in sustainable jackets'}\n",
      "Endpoint: http://localhost:5000/api/infinitybrain/predict, Status: 200, Time: 2.061s, Response: {'confidence': 0.83, 'trend_forecast': 'High demand for blue dresses'}\n",
      "Endpoint: http://localhost:5000/api/infinitybrain/predict, Status: 200, Time: 2.053s, Response: {'confidence': 0.9, 'trend_forecast': 'High demand for blue dresses'}\n",
      "Endpoint: http://localhost:5000/api/infinitybrain/predict, Status: 200, Time: 2.049s, Response: {'confidence': 0.81, 'trend_forecast': 'High demand for blue dresses'}\n",
      "Endpoint: http://localhost:5000/api/infinitybrain/predict, Status: 200, Time: 2.053s, Response: {'confidence': 0.95, 'trend_forecast': 'High demand for blue dresses'}\n",
      "Endpoint: http://localhost:5000/api/infinitybrain/predict, Status: 200, Time: 2.045s, Response: {'confidence': 0.88, 'trend_forecast': 'Rise in sustainable jackets'}\n",
      "Endpoint: http://localhost:5000/api/personamesh/recommend, Status: 200, Time: 2.126s, Response: {'confidence': 0.9, 'recommendation': 'Casual blue t-shirt'}\n",
      "Endpoint: http://localhost:5000/api/personamesh/recommend, Status: 200, Time: 2.073s, Response: {'confidence': 0.9, 'recommendation': 'Casual blue t-shirt'}\n",
      "Endpoint: http://localhost:5000/api/personamesh/recommend, Status: 200, Time: 2.107s, Response: {'confidence': 0.9, 'recommendation': 'Casual blue t-shirt'}\n",
      "Endpoint: http://localhost:5000/api/personamesh/recommend, Status: 200, Time: 2.116s, Response: {'confidence': 0.9, 'recommendation': 'Casual blue t-shirt'}\n",
      "Endpoint: http://localhost:5000/api/personamesh/recommend, Status: 200, Time: 2.065s, Response: {'confidence': 0.9, 'recommendation': 'Casual blue t-shirt'}\n",
      "Endpoint: http://localhost:5000/api/personamesh/recommend, Status: 200, Time: 2.124s, Response: {'confidence': 0.9, 'recommendation': 'Casual blue t-shirt'}\n",
      "Endpoint: http://localhost:5000/api/personamesh/recommend, Status: 200, Time: 2.107s, Response: {'confidence': 0.9, 'recommendation': 'Casual blue t-shirt'}\n",
      "Endpoint: http://localhost:5000/api/personamesh/recommend, Status: 200, Time: 2.058s, Response: {'confidence': 0.9, 'recommendation': 'Casual blue t-shirt'}\n",
      "Endpoint: http://localhost:5000/api/personamesh/recommend, Status: 200, Time: 2.117s, Response: {'confidence': 0.9, 'recommendation': 'Casual blue t-shirt'}\n",
      "Endpoint: http://localhost:5000/api/personamesh/recommend, Status: 200, Time: 2.103s, Response: {'confidence': 0.9, 'recommendation': 'Casual blue t-shirt'}\n",
      "Endpoint: http://localhost:5000/api/personamesh/recommend, Status: 200, Time: 2.062s, Response: {'confidence': 0.9, 'recommendation': 'Casual blue t-shirt'}\n",
      "Endpoint: http://localhost:5000/api/personamesh/recommend, Status: 200, Time: 2.071s, Response: {'confidence': 0.9, 'recommendation': 'Casual blue t-shirt'}\n",
      "Endpoint: http://localhost:5000/api/personamesh/recommend, Status: 200, Time: 2.078s, Response: {'confidence': 0.9, 'recommendation': 'Casual blue t-shirt'}\n",
      "Endpoint: http://localhost:5000/api/personamesh/recommend, Status: 200, Time: 2.107s, Response: {'confidence': 0.9, 'recommendation': 'Casual blue t-shirt'}\n",
      "Endpoint: http://localhost:5000/api/personamesh/recommend, Status: 200, Time: 2.108s, Response: {'confidence': 0.9, 'recommendation': 'Casual blue t-shirt'}\n",
      "Endpoint: http://localhost:5000/api/personamesh/recommend, Status: 200, Time: 2.082s, Response: {'confidence': 0.9, 'recommendation': 'Casual blue t-shirt'}\n",
      "Endpoint: http://localhost:5000/api/personamesh/recommend, Status: 200, Time: 2.076s, Response: {'confidence': 0.9, 'recommendation': 'Casual blue t-shirt'}\n",
      "Endpoint: http://localhost:5000/api/personamesh/recommend, Status: 200, Time: 2.088s, Response: {'confidence': 0.9, 'recommendation': 'Casual blue t-shirt'}\n",
      "Endpoint: http://localhost:5000/api/personamesh/recommend, Status: 200, Time: 2.076s, Response: {'confidence': 0.9, 'recommendation': 'Casual blue t-shirt'}\n",
      "Endpoint: http://localhost:5000/api/personamesh/recommend, Status: 200, Time: 2.077s, Response: {'confidence': 0.9, 'recommendation': 'Casual blue t-shirt'}\n",
      "Endpoint: http://localhost:5001/api/intentlogic, Status: 200, Time: 2.051s, Response: {'intent_scores': {'buy_accessory': 0.69, 'buy_shoes': 0.78, 'explore_more': 0.52}, 'user_action': 'viewed_dress'}\n",
      "Endpoint: http://localhost:5001/api/intentlogic, Status: 200, Time: 2.072s, Response: {'intent_scores': {'buy_accessory': 0.62, 'buy_shoes': 0.8, 'explore_more': 0.5}, 'user_action': 'viewed_dress'}\n",
      "Endpoint: http://localhost:5001/api/intentlogic, Status: 200, Time: 2.066s, Response: {'intent_scores': {'buy_accessory': 0.62, 'buy_shoes': 0.74, 'explore_more': 0.68}, 'user_action': 'viewed_dress'}\n",
      "Endpoint: http://localhost:5001/api/intentlogic, Status: 200, Time: 2.064s, Response: {'intent_scores': {'buy_accessory': 0.75, 'buy_shoes': 0.89, 'explore_more': 0.63}, 'user_action': 'viewed_dress'}\n",
      "Endpoint: http://localhost:5001/api/intentlogic, Status: 200, Time: 2.078s, Response: {'intent_scores': {'buy_accessory': 0.72, 'buy_shoes': 0.79, 'explore_more': 0.69}, 'user_action': 'viewed_dress'}\n",
      "Endpoint: http://localhost:5001/api/intentlogic, Status: 200, Time: 2.044s, Response: {'intent_scores': {'buy_accessory': 0.64, 'buy_shoes': 0.73, 'explore_more': 0.57}, 'user_action': 'viewed_dress'}\n",
      "Endpoint: http://localhost:5001/api/intentlogic, Status: 200, Time: 2.079s, Response: {'intent_scores': {'buy_accessory': 0.7, 'buy_shoes': 0.85, 'explore_more': 0.64}, 'user_action': 'viewed_dress'}\n",
      "Endpoint: http://localhost:5001/api/intentlogic, Status: 200, Time: 2.079s, Response: {'intent_scores': {'buy_accessory': 0.77, 'buy_shoes': 0.73, 'explore_more': 0.68}, 'user_action': 'viewed_dress'}\n",
      "Endpoint: http://localhost:5001/api/intentlogic, Status: 200, Time: 2.07s, Response: {'intent_scores': {'buy_accessory': 0.72, 'buy_shoes': 0.85, 'explore_more': 0.62}, 'user_action': 'viewed_dress'}\n",
      "Endpoint: http://localhost:5001/api/intentlogic, Status: 200, Time: 2.065s, Response: {'intent_scores': {'buy_accessory': 0.66, 'buy_shoes': 0.72, 'explore_more': 0.64}, 'user_action': 'viewed_dress'}\n",
      "Endpoint: http://localhost:5001/api/intentlogic, Status: 200, Time: 2.085s, Response: {'intent_scores': {'buy_accessory': 0.74, 'buy_shoes': 0.88, 'explore_more': 0.6}, 'user_action': 'viewed_dress'}\n",
      "Endpoint: http://localhost:5001/api/intentlogic, Status: 200, Time: 2.04s, Response: {'intent_scores': {'buy_accessory': 0.79, 'buy_shoes': 0.81, 'explore_more': 0.62}, 'user_action': 'viewed_dress'}\n",
      "Endpoint: http://localhost:5001/api/intentlogic, Status: 200, Time: 2.075s, Response: {'intent_scores': {'buy_accessory': 0.73, 'buy_shoes': 0.9, 'explore_more': 0.64}, 'user_action': 'viewed_dress'}\n",
      "Endpoint: http://localhost:5001/api/intentlogic, Status: 200, Time: 2.08s, Response: {'intent_scores': {'buy_accessory': 0.76, 'buy_shoes': 0.88, 'explore_more': 0.64}, 'user_action': 'viewed_dress'}\n",
      "Endpoint: http://localhost:5001/api/intentlogic, Status: 200, Time: 2.146s, Response: {'intent_scores': {'buy_accessory': 0.75, 'buy_shoes': 0.72, 'explore_more': 0.63}, 'user_action': 'viewed_dress'}\n",
      "Endpoint: http://localhost:5001/api/intentlogic, Status: 200, Time: 2.14s, Response: {'intent_scores': {'buy_accessory': 0.74, 'buy_shoes': 0.8, 'explore_more': 0.56}, 'user_action': 'viewed_dress'}\n",
      "Endpoint: http://localhost:5001/api/intentlogic, Status: 200, Time: 2.136s, Response: {'intent_scores': {'buy_accessory': 0.63, 'buy_shoes': 0.85, 'explore_more': 0.57}, 'user_action': 'viewed_dress'}\n",
      "Endpoint: http://localhost:5001/api/intentlogic, Status: 200, Time: 2.076s, Response: {'intent_scores': {'buy_accessory': 0.78, 'buy_shoes': 0.75, 'explore_more': 0.59}, 'user_action': 'viewed_dress'}\n",
      "Endpoint: http://localhost:5001/api/intentlogic, Status: 200, Time: 2.135s, Response: {'intent_scores': {'buy_accessory': 0.69, 'buy_shoes': 0.72, 'explore_more': 0.57}, 'user_action': 'viewed_dress'}\n",
      "Endpoint: http://localhost:5001/api/intentlogic, Status: 200, Time: 2.112s, Response: {'intent_scores': {'buy_accessory': 0.7, 'buy_shoes': 0.87, 'explore_more': 0.51}, 'user_action': 'viewed_dress'}\n",
      "Endpoint: http://localhost:5000/api/ecosense, Status: 200, Time: 2.08s, Response: {'carbon_score': 9.9, 'product_id': 'dress1', 'recyclability': 0.63, 'water_usage': 192.5}\n",
      "Endpoint: http://localhost:5000/api/ecosense, Status: 200, Time: 2.061s, Response: {'carbon_score': 3.9, 'product_id': 'dress1', 'recyclability': 0.7, 'water_usage': 119.6}\n",
      "Endpoint: http://localhost:5000/api/ecosense, Status: 200, Time: 2.071s, Response: {'carbon_score': 9.6, 'product_id': 'dress1', 'recyclability': 0.79, 'water_usage': 187.6}\n",
      "Endpoint: http://localhost:5000/api/ecosense, Status: 200, Time: 2.076s, Response: {'carbon_score': 6.3, 'product_id': 'dress1', 'recyclability': 0.9, 'water_usage': 148.6}\n",
      "Endpoint: http://localhost:5000/api/ecosense, Status: 200, Time: 2.104s, Response: {'carbon_score': 7.4, 'product_id': 'dress1', 'recyclability': 0.74, 'water_usage': 155.1}\n",
      "Endpoint: http://localhost:5000/api/ecosense, Status: 200, Time: 2.053s, Response: {'carbon_score': 7.1, 'product_id': 'dress1', 'recyclability': 0.64, 'water_usage': 64.6}\n",
      "Endpoint: http://localhost:5000/api/ecosense, Status: 200, Time: 2.083s, Response: {'carbon_score': 7.5, 'product_id': 'dress1', 'recyclability': 0.57, 'water_usage': 177.3}\n",
      "Endpoint: http://localhost:5000/api/ecosense, Status: 200, Time: 2.093s, Response: {'carbon_score': 3.8, 'product_id': 'dress1', 'recyclability': 0.78, 'water_usage': 103.6}\n",
      "Endpoint: http://localhost:5000/api/ecosense, Status: 200, Time: 2.089s, Response: {'carbon_score': 9.5, 'product_id': 'dress1', 'recyclability': 0.68, 'water_usage': 199.0}\n",
      "Endpoint: http://localhost:5000/api/ecosense, Status: 200, Time: 2.05s, Response: {'carbon_score': 5.0, 'product_id': 'dress1', 'recyclability': 0.73, 'water_usage': 73.5}\n",
      "Endpoint: http://localhost:5000/api/ecosense, Status: 200, Time: 2.123s, Response: {'carbon_score': 6.3, 'product_id': 'dress1', 'recyclability': 0.52, 'water_usage': 122.6}\n",
      "Endpoint: http://localhost:5000/api/ecosense, Status: 200, Time: 2.127s, Response: {'carbon_score': 6.7, 'product_id': 'dress1', 'recyclability': 0.65, 'water_usage': 199.5}\n",
      "Endpoint: http://localhost:5000/api/ecosense, Status: 200, Time: 2.117s, Response: {'carbon_score': 10.0, 'product_id': 'dress1', 'recyclability': 0.9, 'water_usage': 121.1}\n",
      "Endpoint: http://localhost:5000/api/ecosense, Status: 200, Time: 2.132s, Response: {'carbon_score': 2.7, 'product_id': 'dress1', 'recyclability': 0.55, 'water_usage': 119.5}\n",
      "Endpoint: http://localhost:5000/api/ecosense, Status: 200, Time: 2.11s, Response: {'carbon_score': 5.2, 'product_id': 'dress1', 'recyclability': 0.63, 'water_usage': 123.8}\n",
      "Endpoint: http://localhost:5000/api/ecosense, Status: 200, Time: 2.096s, Response: {'carbon_score': 6.9, 'product_id': 'dress1', 'recyclability': 0.81, 'water_usage': 51.2}\n",
      "Endpoint: http://localhost:5000/api/ecosense, Status: 200, Time: 2.126s, Response: {'carbon_score': 8.0, 'product_id': 'dress1', 'recyclability': 0.88, 'water_usage': 132.9}\n",
      "Endpoint: http://localhost:5000/api/ecosense, Status: 200, Time: 2.088s, Response: {'carbon_score': 8.4, 'product_id': 'dress1', 'recyclability': 0.74, 'water_usage': 109.1}\n",
      "Endpoint: http://localhost:5000/api/ecosense, Status: 200, Time: 2.072s, Response: {'carbon_score': 4.7, 'product_id': 'dress1', 'recyclability': 0.55, 'water_usage': 83.4}\n",
      "Endpoint: http://localhost:5000/api/ecosense, Status: 200, Time: 2.08s, Response: {'carbon_score': 9.8, 'product_id': 'dress1', 'recyclability': 0.51, 'water_usage': 153.6}\n",
      "\n",
      "Average Response Times (seconds): {'http://localhost:5000/api/infinitybrain/predict': 2.04915, 'http://localhost:5000/api/personamesh/recommend': 2.09105, 'http://localhost:5001/api/intentlogic': 2.0846500000000003, 'http://localhost:5000/api/ecosense': 2.0915500000000002}\n"
     ]
    }
   ],
   "source": [
    "# Analyze results\n",
    "for result in results:\n",
    "    print(f\"Endpoint: {result['url']}, Status: {result['status_code']}, Time: {result['time_taken']}s, Response: {result['response']}\")\n",
    "avg_times = {url: sum(r['time_taken'] for r in results if r['url'] == url) / 20 for url, _ in endpoints}\n",
    "print(\"\\nAverage Response Times (seconds):\", avg_times)\n",
    "assert all(r['status_code'] == 200 for r in results), \"Some requests failed\""
   ]
  }
 ],
 "metadata": {
  "kernelspec": {
   "display_name": "Python 3",
   "language": "python",
   "name": "python3"
  },
  "language_info": {
   "codemirror_mode": {
    "name": "ipython",
    "version": 3
   },
   "file_extension": ".py",
   "mimetype": "text/x-python",
   "name": "python",
   "nbconvert_exporter": "python",
   "pygments_lexer": "ipython3",
   "version": "3.9.10"
  }
 },
 "nbformat": 4,
 "nbformat_minor": 5
}
