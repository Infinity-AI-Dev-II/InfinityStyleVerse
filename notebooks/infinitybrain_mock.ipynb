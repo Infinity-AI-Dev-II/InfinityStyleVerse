{
 "cells": [
  {
   "cell_type": "markdown",
   "id": "e426bad7",
   "metadata": {},
   "source": [
    "Day 1"
   ]
  },
  {
   "cell_type": "markdown",
   "id": "4d9c559a",
   "metadata": {},
   "source": [
    "Initial Setup"
   ]
  },
  {
   "cell_type": "code",
   "execution_count": 1,
   "id": "8628e6e2",
   "metadata": {},
   "outputs": [],
   "source": [
    "import numpy as np\n",
    "import pandas as pd\n",
    "import os"
   ]
  },
  {
   "cell_type": "code",
   "execution_count": 2,
   "id": "adc293e8",
   "metadata": {},
   "outputs": [
    {
     "name": "stdout",
     "output_type": "stream",
     "text": [
      "InfinityBrain mock setup complete\n"
     ]
    }
   ],
   "source": [
    "os.chdir(os.path.dirname(os.path.abspath(\"__file__\")))\n",
    "\n",
    "print(\"InfinityBrain mock setup complete\")"
   ]
  },
  {
   "cell_type": "markdown",
   "id": "cd992812",
   "metadata": {},
   "source": [
    "Dummy ML Model for VisionaryAI"
   ]
  },
  {
   "cell_type": "code",
   "execution_count": 3,
   "id": "6cda3cce",
   "metadata": {},
   "outputs": [],
   "source": [
    "def mock_visionaryai(image_input):\n",
    "    tags = [\"cotton\", \"blue\", \"casual\"]  # Example tags\n",
    "    score = np.random.uniform(0.7, 1.0)  # Random confidence between 0.7–1.0\n",
    "    return {\"tags\": tags, \"confidence_score\": score}"
   ]
  },
  {
   "cell_type": "code",
   "execution_count": 4,
   "id": "43aa6136",
   "metadata": {},
   "outputs": [
    {
     "name": "stdout",
     "output_type": "stream",
     "text": [
      "{'tags': ['cotton', 'blue', 'casual'], 'confidence_score': 0.719689304843113}\n"
     ]
    }
   ],
   "source": [
    "result = mock_visionaryai(\"sample_image.jpg\")\n",
    "print(result)"
   ]
  },
  {
   "cell_type": "markdown",
   "id": "df518623",
   "metadata": {},
   "source": [
    "Dummy ML Model for Inference Logic"
   ]
  },
  {
   "cell_type": "code",
   "execution_count": 5,
   "id": "7c48722e",
   "metadata": {},
   "outputs": [],
   "source": [
    "# The below function will takes user_action as input and will look it up in a dictionary (\"intent_map\"). If a match is found, \n",
    "# it will return a dictionary with the predicted next intent (what the user will want to do next) and return a fixed confidence score 0.85 for now."
   ]
  },
  {
   "cell_type": "code",
   "execution_count": 6,
   "id": "8165a099",
   "metadata": {},
   "outputs": [],
   "source": [
    "# Dummy function for intent prediction\n",
    "def mock_intentlogic(user_action):\n",
    "    intent_map = {\"viewed_dress\": \"buy_shoes\", \"added_to_cart\": \"buy_accessory\"} \n",
    "    prediction = intent_map.get(user_action, \"explore_more\")\n",
    "    return {\"predicted_intent\": prediction, \"confidence\": 0.85}"
   ]
  },
  {
   "cell_type": "code",
   "execution_count": 7,
   "id": "8196a5c6",
   "metadata": {},
   "outputs": [
    {
     "name": "stdout",
     "output_type": "stream",
     "text": [
      "{'predicted_intent': 'buy_shoes', 'confidence': 0.85}\n"
     ]
    }
   ],
   "source": [
    "# Testing function\n",
    "intent_result = mock_intentlogic(\"viewed_dress\")\n",
    "print(intent_result)"
   ]
  },
  {
   "cell_type": "markdown",
   "id": "4ddfdca9",
   "metadata": {},
   "source": [
    "Day 2"
   ]
  },
  {
   "cell_type": "code",
   "execution_count": 8,
   "id": "e5e6a739",
   "metadata": {},
   "outputs": [],
   "source": [
    "import random\n",
    "\n",
    "def mock_infinitybrain_predict(prompt):    \n",
    "    trends = [\"High demand for blue dresses\", \"Rise in sustainable jackets\", \"Popular neon tops\"]\n",
    "    confidence = round(random.uniform(0.8, 0.95), 2)  # Random confidence between 0.8 and 0.95\n",
    "    return {\"trend_forecast\": random.choice(trends), \"confidence\": confidence}"
   ]
  },
  {
   "cell_type": "code",
   "execution_count": 9,
   "id": "367faa00",
   "metadata": {},
   "outputs": [
    {
     "name": "stdout",
     "output_type": "stream",
     "text": [
      "{'trend_forecast': 'High demand for blue dresses', 'confidence': 0.83}\n"
     ]
    }
   ],
   "source": [
    "test_prompt = \"Predict trend for summer\"\n",
    "predict_result = mock_infinitybrain_predict(test_prompt)\n",
    "print(predict_result)"
   ]
  },
  {
   "cell_type": "markdown",
   "id": "67ab732e",
   "metadata": {},
   "source": [
    "VisionaryAI & StyleSense Placeholder Endpoints"
   ]
  },
  {
   "cell_type": "code",
   "execution_count": 10,
   "id": "2e1e2b10",
   "metadata": {},
   "outputs": [
    {
     "name": "stdout",
     "output_type": "stream",
     "text": [
      "VisionaryAI Analysis: {'material': 'silk', 'color': 'red', 'confidence': 0.95}\n"
     ]
    }
   ],
   "source": [
    "#Placeholder for VisionaryAI \n",
    "def mock_visionaryai_analyze(image_input):\n",
    "    materials = [\"cotton\", \"silk\", \"denim\"]\n",
    "    colors = [\"blue\", \"red\", \"black\"]\n",
    "    return {\n",
    "        \"material\": random.choice(materials),\n",
    "        \"color\": random.choice(colors),\n",
    "        \"confidence\": round(random.uniform(0.75, 0.95), 2)\n",
    "    }\n",
    "\n",
    "# Test\n",
    "visionary_result = mock_visionaryai_analyze(\"sample_image.jpg\")\n",
    "print(\"VisionaryAI Analysis:\", visionary_result)"
   ]
  },
  {
   "cell_type": "code",
   "execution_count": 11,
   "id": "ac4645a6",
   "metadata": {},
   "outputs": [
    {
     "name": "stdout",
     "output_type": "stream",
     "text": [
      "StyleSense Suggestion: {'suggestion': 'Pair with white sneakers', 'confidence': 0.85}\n"
     ]
    }
   ],
   "source": [
    "#Placeholder for StyleSense\n",
    "def mock_stylesense_suggest(user_preferences):\n",
    "    suggestions = [\n",
    "        \"Pair with white sneakers\",\n",
    "        \"Try a leather jacket\",\n",
    "        \"Accessorize with a silver necklace\"\n",
    "    ]\n",
    "    return {\n",
    "        \"suggestion\": random.choice(suggestions),\n",
    "        \"confidence\": 0.85  # Fixed for simplicity\n",
    "    }\n",
    "\n",
    "# Test\n",
    "stylesense_result = mock_stylesense_suggest({\"preference\": \"casual\"})\n",
    "print(\"StyleSense Suggestion:\", stylesense_result)"
   ]
  },
  {
   "cell_type": "markdown",
   "id": "e1aa7f31",
   "metadata": {},
   "source": [
    "Day 3"
   ]
  },
  {
   "cell_type": "code",
   "execution_count": 12,
   "id": "7ef4ad1f",
   "metadata": {},
   "outputs": [],
   "source": [
    "# PersonaMesh \n",
    "# Setting up mock embeddings for test users"
   ]
  },
  {
   "cell_type": "code",
   "execution_count": 13,
   "id": "b7700cf3",
   "metadata": {},
   "outputs": [],
   "source": [
    "# Mock Embeddings:\n",
    "# Contains a dictionary with user_id as key and a list of 3 numbers (formal, color, style) as value.\n",
    "# Test Users: user1 (casual), user2 (trendy), user3 (neutral).\n",
    "# This is a placeholder for PersonaMesh to simulate user preferences."
   ]
  },
  {
   "cell_type": "code",
   "execution_count": 14,
   "id": "6f366ac7",
   "metadata": {},
   "outputs": [
    {
     "name": "stdout",
     "output_type": "stream",
     "text": [
      "Mock embeddings set up: {'user1': [0.1, 0.9, 0.3], 'user2': [0.8, 0.2, 0.7], 'user3': [0.5, 0.5, 0.5]}\n"
     ]
    }
   ],
   "source": [
    "mock_embeddings = {\n",
    "    \"user1\": [0.1, 0.9, 0.3],  # Casual shopper (low formal, high color, medium style)\n",
    "    \"user2\": [0.8, 0.2, 0.7],  # Trendy designer (high formal, low color, high style)\n",
    "    \"user3\": [0.5, 0.5, 0.5]   # Neutral user (balanced preferences)\n",
    "}\n",
    "print(\"Mock embeddings set up:\", mock_embeddings)"
   ]
  },
  {
   "cell_type": "code",
   "execution_count": 15,
   "id": "e6ed4ac3",
   "metadata": {},
   "outputs": [
    {
     "name": "stdout",
     "output_type": "stream",
     "text": [
      "User1 recommendation: {'recommendation': 'Casual blue t-shirt', 'confidence': 0.9}\n",
      "User2 recommendation: {'recommendation': 'Trendy leather jacket', 'confidence': 0.85}\n",
      "User3 recommendation: {'recommendation': 'Versatile black jeans', 'confidence': 0.8}\n",
      "Unknown user recommendation: {'recommendation': 'Explore new styles', 'confidence': 0.7}\n"
     ]
    }
   ],
   "source": [
    "#Mock Recommendation Function for Login Context\n",
    "def mock_recommendation(user_id):\n",
    "    recommendations = {\n",
    "        \"User1\": {\"recommendation\": \"Casual blue t-shirt\", \"confidence\": 0.9},\n",
    "        \"User2\": {\"recommendation\": \"Trendy leather jacket\", \"confidence\": 0.85},\n",
    "        \"User3\": {\"recommendation\": \"Versatile black jeans\", \"confidence\": 0.8}\n",
    "    }\n",
    "    return recommendations.get(user_id, {\"recommendation\": \"Explore new styles\", \"confidence\": 0.7})\n",
    "\n",
    "# Test cases\n",
    "print(\"User1 recommendation:\", mock_recommendation(\"User1\"))\n",
    "print(\"User2 recommendation:\", mock_recommendation(\"User2\"))\n",
    "print(\"User3 recommendation:\", mock_recommendation(\"User3\"))\n",
    "print(\"Unknown user recommendation:\", mock_recommendation(\"UserX\"))\n"
   ]
  },
  {
   "cell_type": "code",
   "execution_count": 16,
   "id": "2259274b",
   "metadata": {},
   "outputs": [],
   "source": [
    "#Mock PersonaMesh Recommendation:\n",
    "#Input: `user_id` from login context (e.g., JWT token).\n",
    "#Output: Dictionary with recommendation and confidence score.\n",
    "#Logic: Maps `user_id` to preset recommendations based on mock embeddings.\n",
    "#For Backend: Call this during `/auth/login` to test personalization.\n"
   ]
  },
  {
   "cell_type": "markdown",
   "id": "7ffbaa07",
   "metadata": {},
   "source": [
    "Day 4"
   ]
  },
  {
   "cell_type": "code",
   "execution_count": null,
   "id": "6e355455",
   "metadata": {},
   "outputs": [],
   "source": [
    "# Mock InfinityBrain Orchestration Logs\n",
    "# Generating and storing fake API response logs in a CSV for testing to support the Admin dashboard with sample AI data."
   ]
  },
  {
   "cell_type": "code",
   "execution_count": 4,
   "id": "c8f78d17",
   "metadata": {},
   "outputs": [],
   "source": [
    "from datetime import datetime\n",
    "import csv\n",
    "import os\n",
    "import random"
   ]
  },
  {
   "cell_type": "code",
   "execution_count": 2,
   "id": "2dcd14a5",
   "metadata": {},
   "outputs": [],
   "source": [
    "# Mock prediction function\n",
    "def mock_infinitybrain_predict(prompt):\n",
    "    trends = [\"High demand for blue dresses\", \"Rise in sustainable jackets\", \"Popular neon tops\"]\n",
    "    confidence = round(random.uniform(0.8, 0.95), 2)\n",
    "    return {\"trend_forecast\": random.choice(trends), \"confidence\": confidence}\n",
    "\n",
    "# Mock recommendation function\n",
    "def mock_personamesh_recommend(user_id):\n",
    "    if user_id == \"user1\":\n",
    "        return {\"recommendation\": \"Casual blue t-shirt\", \"confidence\": 0.9}\n",
    "    elif user_id == \"user2\":\n",
    "        return {\"recommendation\": \"Trendy leather jacket\", \"confidence\": 0.85}\n",
    "    else:\n",
    "        return {\"recommendation\": \"Explore new styles\", \"confidence\": 0.7}"
   ]
  },
  {
   "cell_type": "code",
   "execution_count": 5,
   "id": "b4c696b3",
   "metadata": {},
   "outputs": [],
   "source": [
    "# Generate mock orchestration logs\n",
    "log_data = []\n",
    "for user_id in [\"user1\", \"user2\", \"user3\"]:\n",
    "    response = mock_infinitybrain_predict(\"test\") if user_id == \"user1\" else mock_personamesh_recommend(user_id)\n",
    "    log_entry = {\n",
    "        \"user_id\": user_id,\n",
    "        \"timestamp\": datetime.now().strftime(\"%Y-%m-%d %H:%M:%S\"),\n",
    "        \"api_call\": \"predict\" if user_id == \"user1\" else \"recommend\",\n",
    "        \"response_type\": \"trend_forecast\" if user_id == \"user1\" else \"recommendation\",\n",
    "        \"response_value\": response.get(\"trend_forecast\", response.get(\"recommendation\")),\n",
    "        \"confidence\": response.get(\"confidence\")\n",
    "    }\n",
    "    log_data.append(log_entry)\n",
    "\n",
    "log_dir = r\"C:\\Users\\acer\\Desktop\\Infinity AI Work\\InfinityStyleVerse\\data\\logs\"\n",
    "if not os.path.exists(log_dir):\n",
    "    os.makedirs(log_dir)\n",
    "log_file = os.path.join(log_dir, 'infinitybrain_logs.csv')\n",
    "\n",
    "fieldnames = [\"user_id\", \"timestamp\", \"api_call\", \"response_type\", \"response_value\", \"confidence\"]\n",
    "with open(log_file, 'w', newline='') as csvfile:\n",
    "    writer = csv.DictWriter(csvfile, fieldnames=fieldnames)\n",
    "    writer.writeheader()\n",
    "    writer.writerows(log_data)"
   ]
  },
  {
   "cell_type": "code",
   "execution_count": 6,
   "id": "8360cb7b",
   "metadata": {},
   "outputs": [
    {
     "name": "stdout",
     "output_type": "stream",
     "text": [
      "{'user_id': 'user1', 'timestamp': '2025-08-13 11:14:10', 'api_call': 'predict', 'response_type': 'trend_forecast', 'response_value': 'Rise in sustainable jackets', 'confidence': 0.89}\n",
      "{'user_id': 'user2', 'timestamp': '2025-08-13 11:14:10', 'api_call': 'recommend', 'response_type': 'recommendation', 'response_value': 'Trendy leather jacket', 'confidence': 0.85}\n",
      "{'user_id': 'user3', 'timestamp': '2025-08-13 11:14:10', 'api_call': 'recommend', 'response_type': 'recommendation', 'response_value': 'Explore new styles', 'confidence': 0.7}\n"
     ]
    }
   ],
   "source": [
    "# Displaying logs\n",
    "for log in log_data:\n",
    "    print(log)"
   ]
  }
 ],
 "metadata": {
  "kernelspec": {
   "display_name": "Python 3",
   "language": "python",
   "name": "python3"
  },
  "language_info": {
   "codemirror_mode": {
    "name": "ipython",
    "version": 3
   },
   "file_extension": ".py",
   "mimetype": "text/x-python",
   "name": "python",
   "nbconvert_exporter": "python",
   "pygments_lexer": "ipython3",
   "version": "3.10.11"
  }
 },
 "nbformat": 4,
 "nbformat_minor": 5
}
