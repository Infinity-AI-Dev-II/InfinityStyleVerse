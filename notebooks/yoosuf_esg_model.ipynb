{
 "cells": [
  {
   "cell_type": "code",
   "execution_count": 2,
   "id": "d502ca0a",
   "metadata": {},
   "outputs": [],
   "source": [
    "import pandas as pd"
   ]
  },
  {
   "cell_type": "code",
   "execution_count": 3,
   "id": "1c4974d9",
   "metadata": {},
   "outputs": [],
   "source": [
    "df = pd.read_csv(r'C:\\Users\\acer\\Desktop\\Infinity AI Work\\InfinityStyleVerse\\data\\raw\\product_esg.csv')"
   ]
  },
  {
   "cell_type": "code",
   "execution_count": 4,
   "id": "7a87ae76",
   "metadata": {},
   "outputs": [],
   "source": [
    "# This will calculate the sustainability score\n",
    "def calculate_esg(row):\n",
    "    score = 0\n",
    "    \n",
    "    # Material sustainability - 30 points\n",
    "    sustainable_materials = ['organic cotton', 'hemp', 'recycled cotton', 'recycled polyester', 'linen']\n",
    "    if row['material'] in sustainable_materials:\n",
    "        score += 30\n",
    "    \n",
    "    # Water usage - 20 points if below 1000 liters, scaled otherwise\n",
    "    water_threshold = 1000 \n",
    "    if pd.notna(row['water_use']) and row['water_use'] < water_threshold:\n",
    "        score += 20\n",
    "    elif pd.notna(row['water_use']):\n",
    "        # Scaling water score inversely (max 20 at 0 liters, 0 at 3000+)\n",
    "        water_score = max(0, 20 - (row['water_use'] / 150)) \n",
    "        score += water_score\n",
    "    \n",
    "    # Carbon emission - 20 points if below 10 kg \n",
    "    if pd.notna(row['carbon_emission']) and row['carbon_emission'] < 10:\n",
    "        score += 20\n",
    "    \n",
    "    # Recyclable - 20 points\n",
    "    if row['recyclable'] == 'Yes':\n",
    "        score += 20\n",
    "    \n",
    "    # Ethical rating - max 30 points, scaled from 1-5\n",
    "    if pd.notna(row['ethical_rating']):\n",
    "        ethical_score = min(5, row['ethical_rating']) * 6  \n",
    "        score += ethical_score\n",
    "    \n",
    "    # Ensuring score doesn't exceed 100\n",
    "    return min(100, score)"
   ]
  },
  {
   "cell_type": "code",
   "execution_count": 5,
   "id": "3fc9dd3c",
   "metadata": {},
   "outputs": [
    {
     "name": "stdout",
     "output_type": "stream",
     "text": [
      "Product ID 1 - Material: cotton, Score: 14.0\n",
      "Product ID 2 - Material: polyester, Score: 26\n",
      "Product ID 4 - Material: recycled polyester, Score: 100\n"
     ]
    }
   ],
   "source": [
    "# Testing with 3 rows\n",
    "test_rows = [0, 1, 3]  \n",
    "for idx in test_rows:\n",
    "    row = df.iloc[idx]\n",
    "    esg_score = calculate_esg(row)\n",
    "    print(f\"Product ID {row['product_id']} - Material: {row['material']}, Score: {esg_score}\")"
   ]
  }
 ],
 "metadata": {
  "kernelspec": {
   "display_name": "Python 3",
   "language": "python",
   "name": "python3"
  },
  "language_info": {
   "codemirror_mode": {
    "name": "ipython",
    "version": 3
   },
   "file_extension": ".py",
   "mimetype": "text/x-python",
   "name": "python",
   "nbconvert_exporter": "python",
   "pygments_lexer": "ipython3",
   "version": "3.10.11"
  }
 },
 "nbformat": 4,
 "nbformat_minor": 5
}
