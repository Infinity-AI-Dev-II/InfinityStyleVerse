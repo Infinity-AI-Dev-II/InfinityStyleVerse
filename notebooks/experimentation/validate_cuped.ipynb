{
 "cells": [
  {
   "cell_type": "code",
   "execution_count": 11,
   "id": "aaf322ea",
   "metadata": {},
   "outputs": [],
   "source": [
    "#Setup Paths"
   ]
  },
  {
   "cell_type": "code",
   "execution_count": 12,
   "id": "8bbe0b19",
   "metadata": {},
   "outputs": [
    {
     "name": "stdout",
     "output_type": "stream",
     "text": [
      "Project root: c:\\Users\\USER\\OneDrive\\Desktop\\Infinity AI\\ApparelWeb\\InfinityStyleVerse\n",
      "Backend path: c:\\Users\\USER\\OneDrive\\Desktop\\Infinity AI\\ApparelWeb\\InfinityStyleVerse\\backend\n"
     ]
    }
   ],
   "source": [
    "import sys, os, importlib.util\n",
    "\n",
    "# Go 2 levels up (to project root)\n",
    "project_root = os.path.abspath(os.path.join(os.getcwd(), \"..\", \"..\"))\n",
    "backend_path = os.path.join(project_root, \"backend\")\n",
    "\n",
    "print(\"Project root:\", project_root)\n",
    "print(\"Backend path:\", backend_path)"
   ]
  },
  {
   "cell_type": "code",
   "execution_count": 13,
   "id": "8486d0d0",
   "metadata": {},
   "outputs": [],
   "source": [
    "#Import Functions Without Flask"
   ]
  },
  {
   "cell_type": "code",
   "execution_count": 14,
   "id": "d4cbf17e",
   "metadata": {},
   "outputs": [
    {
     "name": "stdout",
     "output_type": "stream",
     "text": [
      "Functions imported successfully!\n"
     ]
    }
   ],
   "source": [
    "# Load experiment_data.py\n",
    "exp_data_path = os.path.join(backend_path, \"app\", \"utils\", \"experiment_data.py\")\n",
    "spec = importlib.util.spec_from_file_location(\"experiment_data\", exp_data_path)\n",
    "exp_data = importlib.util.module_from_spec(spec)\n",
    "spec.loader.exec_module(exp_data)\n",
    "\n",
    "# Load experimentation.py\n",
    "experimentation_path = os.path.join(backend_path, \"app\", \"services\", \"experimentation.py\")\n",
    "spec2 = importlib.util.spec_from_file_location(\"experimentation\", experimentation_path)\n",
    "experimentation = importlib.util.module_from_spec(spec2)\n",
    "spec2.loader.exec_module(experimentation)\n",
    "\n",
    "# Assign functions for convenience\n",
    "fetch_experiment_data = exp_data.fetch_experiment_data\n",
    "calculate_cuped_adjusted_metric = experimentation.calculate_cuped_adjusted_metric\n",
    "\n",
    "print(\"Functions imported successfully!\")\n"
   ]
  },
  {
   "cell_type": "code",
   "execution_count": 15,
   "id": "b7ae2477",
   "metadata": {},
   "outputs": [],
   "source": [
    "#Simulate A/A Test"
   ]
  },
  {
   "cell_type": "code",
   "execution_count": 16,
   "id": "1e4785fc",
   "metadata": {},
   "outputs": [
    {
     "data": {
      "text/html": [
       "<div>\n",
       "<style scoped>\n",
       "    .dataframe tbody tr th:only-of-type {\n",
       "        vertical-align: middle;\n",
       "    }\n",
       "\n",
       "    .dataframe tbody tr th {\n",
       "        vertical-align: top;\n",
       "    }\n",
       "\n",
       "    .dataframe thead th {\n",
       "        text-align: right;\n",
       "    }\n",
       "</style>\n",
       "<table border=\"1\" class=\"dataframe\">\n",
       "  <thead>\n",
       "    <tr style=\"text-align: right;\">\n",
       "      <th></th>\n",
       "      <th>experiment_id</th>\n",
       "      <th>treatment</th>\n",
       "      <th>pre_metric</th>\n",
       "      <th>outcome</th>\n",
       "    </tr>\n",
       "  </thead>\n",
       "  <tbody>\n",
       "    <tr>\n",
       "      <th>0</th>\n",
       "      <td>exp_aa</td>\n",
       "      <td>0</td>\n",
       "      <td>-0.877983</td>\n",
       "      <td>0.272615</td>\n",
       "    </tr>\n",
       "    <tr>\n",
       "      <th>1</th>\n",
       "      <td>exp_aa</td>\n",
       "      <td>1</td>\n",
       "      <td>-0.826880</td>\n",
       "      <td>0.526227</td>\n",
       "    </tr>\n",
       "    <tr>\n",
       "      <th>2</th>\n",
       "      <td>exp_aa</td>\n",
       "      <td>1</td>\n",
       "      <td>-0.226479</td>\n",
       "      <td>0.435632</td>\n",
       "    </tr>\n",
       "    <tr>\n",
       "      <th>3</th>\n",
       "      <td>exp_aa</td>\n",
       "      <td>1</td>\n",
       "      <td>0.367366</td>\n",
       "      <td>0.138195</td>\n",
       "    </tr>\n",
       "    <tr>\n",
       "      <th>4</th>\n",
       "      <td>exp_aa</td>\n",
       "      <td>0</td>\n",
       "      <td>0.913585</td>\n",
       "      <td>0.705390</td>\n",
       "    </tr>\n",
       "  </tbody>\n",
       "</table>\n",
       "</div>"
      ],
      "text/plain": [
       "  experiment_id  treatment  pre_metric   outcome\n",
       "0        exp_aa          0   -0.877983  0.272615\n",
       "1        exp_aa          1   -0.826880  0.526227\n",
       "2        exp_aa          1   -0.226479  0.435632\n",
       "3        exp_aa          1    0.367366  0.138195\n",
       "4        exp_aa          0    0.913585  0.705390"
      ]
     },
     "execution_count": 16,
     "metadata": {},
     "output_type": "execute_result"
    }
   ],
   "source": [
    "import pandas as pd\n",
    "import numpy as np\n",
    "\n",
    "# Generate synthetic data\n",
    "df = fetch_experiment_data(\"exp_aa\", num_samples=2000)\n",
    "\n",
    "# Force no true effect\n",
    "df[\"outcome\"] = 0.5 + 0.2 * df[\"pre_metric\"] + np.random.normal(0, 0.3, size=len(df))\n",
    "\n",
    "# Split into groups\n",
    "control = df[df[\"treatment\"] == 0]\n",
    "treatment = df[df[\"treatment\"] == 1]\n",
    "\n",
    "df.head()"
   ]
  },
  {
   "cell_type": "code",
   "execution_count": 17,
   "id": "3392021a",
   "metadata": {},
   "outputs": [],
   "source": [
    "#Run CUPED"
   ]
  },
  {
   "cell_type": "code",
   "execution_count": 18,
   "id": "dc7eca25",
   "metadata": {},
   "outputs": [
    {
     "name": "stdout",
     "output_type": "stream",
     "text": [
      "CUPED Results: {'theta': np.float64(0.1941080430411694), 'control_mean_raw': np.float64(0.49020835722199707), 'treatment_mean_raw': np.float64(0.4959582171703441), 'control_mean_cuped': np.float64(0.49269687226501657), 'treatment_mean_cuped': np.float64(0.49353357319456886), 'uplift_raw': np.float64(0.005749859948347036), 'uplift_cuped': np.float64(0.000836700929552292), 'var_reduction': np.float64(0.2802631392600908)}\n"
     ]
    }
   ],
   "source": [
    "results = calculate_cuped_adjusted_metric(\n",
    "    control_metric=control[\"outcome\"].values,\n",
    "    control_covariate=control[\"pre_metric\"].values,\n",
    "    treatment_metric=treatment[\"outcome\"].values,\n",
    "    treatment_covariate=treatment[\"pre_metric\"].values\n",
    ")\n",
    "\n",
    "print(\"CUPED Results:\", results)\n"
   ]
  }
 ],
 "metadata": {
  "kernelspec": {
   "display_name": "Python 3",
   "language": "python",
   "name": "python3"
  },
  "language_info": {
   "codemirror_mode": {
    "name": "ipython",
    "version": 3
   },
   "file_extension": ".py",
   "mimetype": "text/x-python",
   "name": "python",
   "nbconvert_exporter": "python",
   "pygments_lexer": "ipython3",
   "version": "3.9.10"
  }
 },
 "nbformat": 4,
 "nbformat_minor": 5
}
